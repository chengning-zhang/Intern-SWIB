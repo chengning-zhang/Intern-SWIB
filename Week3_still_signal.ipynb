{
  "nbformat": 4,
  "nbformat_minor": 0,
  "metadata": {
    "colab": {
      "name": "Week3_still_signal.ipynb",
      "provenance": [],
      "collapsed_sections": [],
      "mount_file_id": "10dY7DjSFYJy9dbU54MPC5AJQR4jHKV9g",
      "authorship_tag": "ABX9TyPd3NfDhm0bwDdoFnKTW76F",
      "include_colab_link": true
    },
    "kernelspec": {
      "name": "python3",
      "display_name": "Python 3"
    }
  },
  "cells": [
    {
      "cell_type": "markdown",
      "metadata": {
        "id": "view-in-github",
        "colab_type": "text"
      },
      "source": [
        "<a href=\"https://colab.research.google.com/github/chengning-zhang/Intern-SWIB/blob/master/Week3_still_signal.ipynb\" target=\"_parent\"><img src=\"https://colab.research.google.com/assets/colab-badge.svg\" alt=\"Open In Colab\"/></a>"
      ]
    },
    {
      "cell_type": "markdown",
      "metadata": {
        "id": "zBnrIK9psCZM",
        "colab_type": "text"
      },
      "source": [
        "# Load Data"
      ]
    },
    {
      "cell_type": "code",
      "metadata": {
        "id": "B4mhS92Vru-3",
        "colab_type": "code",
        "colab": {}
      },
      "source": [
        "!pip install shap"
      ],
      "execution_count": null,
      "outputs": []
    },
    {
      "cell_type": "code",
      "metadata": {
        "id": "LJmbVqYzsFZO",
        "colab_type": "code",
        "colab": {}
      },
      "source": [
        "import pandas as pd\n",
        "from patsy import dmatrix\n",
        "import numpy as np\n",
        "from sklearn import tree\n",
        "from sklearn.ensemble import RandomForestRegressor\n",
        "from sklearn.ensemble import RandomForestClassifier\n",
        "from sklearn.linear_model import LogisticRegression\n",
        "from sklearn.linear_model import LinearRegression\n",
        "from joblib import Parallel, delayed\n",
        "import multiprocessing\n",
        "import shap\n",
        "from sklearn.metrics import r2_score\n",
        "from sklearn.metrics import mean_squared_error\n",
        "import matplotlib.pyplot as plt\n",
        "from sklearn import svm\n",
        "import xgboost as xgb\n",
        "from sklearn.metrics import r2_score"
      ],
      "execution_count": 126,
      "outputs": []
    },
    {
      "cell_type": "markdown",
      "metadata": {
        "id": "2e0L2Hh4sbpz",
        "colab_type": "text"
      },
      "source": [
        "### Read LIBOR rate\n",
        "\n",
        "convert LIBOR rate to return, which is then treated as risk free return. \n",
        "For more accurate beta calculation: (r_i - rf) = beta (r_m - rf )\n"
      ]
    },
    {
      "cell_type": "code",
      "metadata": {
        "id": "jpm2hntzs_EJ",
        "colab_type": "code",
        "colab": {
          "base_uri": "https://localhost:8080/",
          "height": 286
        },
        "outputId": "5b5a80f8-2582-4ade-9498-0dbb566d836a"
      },
      "source": [
        "libor_rate = pd.read_excel('/content/drive/My Drive/SWIB Quant Intern/data folder/libor.xlsx')  \n",
        "# plot rate\n",
        "libor_rate.plot(x = 'Dates', y = 'Libor3M')\n",
        "# libor_rate.isna().sum(), libro_rate does not have nan, no need fillna('ffill')\n",
        "plt.ylabel('Libor rate')"
      ],
      "execution_count": null,
      "outputs": [
        {
          "output_type": "execute_result",
          "data": {
            "text/plain": [
              "Text(0, 0.5, 'Libor rate')"
            ]
          },
          "metadata": {
            "tags": []
          },
          "execution_count": 2
        },
        {
          "output_type": "display_data",
          "data": {
            "image/png": "[encoded data removed]",
            "text/plain": [
              "<Figure size 432x288 with 1 Axes>"
            ]
          },
          "metadata": {
            "tags": [],
            "needs_background": "light"
          }
        }
      ]
    },
    {
      "cell_type": "markdown",
      "metadata": {
        "id": "_Lfo2H8KysEu",
        "colab_type": "text"
      },
      "source": [
        "The fomula from rate to return: \n",
        "\n",
        "$return_t + 1 = \\frac{P_t}{P_{t-1}} $\n",
        "\n",
        "$ P_{t-1} (1 + \\frac{rate_{t-1}}{100})^{days/year} = P_t$\n",
        "\n",
        "Therefore, $return_t =  (1 + \\frac{rate_{t-1}}{100})^{days/year} - 1 $"
      ]
    },
    {
      "cell_type": "code",
      "metadata": {
        "id": "amBNtHLuzukc",
        "colab_type": "code",
        "colab": {
          "base_uri": "https://localhost:8080/",
          "height": 312
        },
        "outputId": "6bb03ee1-c532-41a6-e952-3ceb610a62bb"
      },
      "source": [
        "libor_rate['years'] = libor_rate['Dates'].diff().dt.total_seconds()/(365*24*3600)\n",
        "libor_rate['d_return']=np.power(1+libor_rate['Libor3M'].shift(periods=1)/100,libor_rate['years'])-1   \n",
        "libor_rate = libor_rate.drop(['Libor3M','years'], axis=1)\n",
        "# after obtain d_return, make year_month and date to period\n",
        "libor_rate['year_month'] = libor_rate['Dates'].dt.to_period('M')\n",
        "libor_rate['Dates'] = libor_rate['Dates'].dt.to_period('D')\n",
        "# plot d_return\n",
        "libor_rate.plot(x = 'Dates', y = 'd_return')\n",
        "plt.ylabel('d_return')\n",
        "plt.title('Daily return for Libor')"
      ],
      "execution_count": null,
      "outputs": [
        {
          "output_type": "execute_result",
          "data": {
            "text/plain": [
              "Text(0.5, 1.0, 'Daily return for Libor')"
            ]
          },
          "metadata": {
            "tags": []
          },
          "execution_count": 3
        },
        {
          "output_type": "display_data",
          "data": {
            "image/png": "[encoded data removed]",
            "text/plain": [
              "<Figure size 432x288 with 1 Axes>"
            ]
          },
          "metadata": {
            "tags": [],
            "needs_background": "light"
          }
        }
      ]
    },
    {
      "cell_type": "code",
      "metadata": {
        "id": "shRIUBr_IpYI",
        "colab_type": "code",
        "colab": {
          "base_uri": "https://localhost:8080/",
          "height": 419
        },
        "outputId": "e7cce566-c7a0-499e-f448-ba994071a688"
      },
      "source": [
        "# 2000-04-21. - 2000-04-24 are missing,  but two of them are present in spxt, which is why there will be nan when left_join\n",
        "libor_rate.loc[libor_rate['Dates'] >= '2000-04-20']"
      ],
      "execution_count": null,
      "outputs": [
        {
          "output_type": "execute_result",
          "data": {
            "text/html": [
              "<div>\n",
              "<style scoped>\n",
              "    .dataframe tbody tr th:only-of-type {\n",
              "        vertical-align: middle;\n",
              "    }\n",
              "\n",
              "    .dataframe tbody tr th {\n",
              "        vertical-align: top;\n",
              "    }\n",
              "\n",
              "    .dataframe thead th {\n",
              "        text-align: right;\n",
              "    }\n",
              "</style>\n",
              "<table border=\"1\" class=\"dataframe\">\n",
              "  <thead>\n",
              "    <tr style=\"text-align: right;\">\n",
              "      <th></th>\n",
              "      <th>Dates</th>\n",
              "      <th>d_return</th>\n",
              "      <th>year_month</th>\n",
              "    </tr>\n",
              "  </thead>\n",
              "  <tbody>\n",
              "    <tr>\n",
              "      <th>97</th>\n",
              "      <td>2000-04-20</td>\n",
              "      <td>0.000168</td>\n",
              "      <td>2000-04</td>\n",
              "    </tr>\n",
              "    <tr>\n",
              "      <th>98</th>\n",
              "      <td>2000-04-25</td>\n",
              "      <td>0.000840</td>\n",
              "      <td>2000-04</td>\n",
              "    </tr>\n",
              "    <tr>\n",
              "      <th>99</th>\n",
              "      <td>2000-04-26</td>\n",
              "      <td>0.000168</td>\n",
              "      <td>2000-04</td>\n",
              "    </tr>\n",
              "    <tr>\n",
              "      <th>100</th>\n",
              "      <td>2000-04-27</td>\n",
              "      <td>0.000169</td>\n",
              "      <td>2000-04</td>\n",
              "    </tr>\n",
              "    <tr>\n",
              "      <th>101</th>\n",
              "      <td>2000-04-28</td>\n",
              "      <td>0.000170</td>\n",
              "      <td>2000-04</td>\n",
              "    </tr>\n",
              "    <tr>\n",
              "      <th>...</th>\n",
              "      <td>...</td>\n",
              "      <td>...</td>\n",
              "      <td>...</td>\n",
              "    </tr>\n",
              "    <tr>\n",
              "      <th>5187</th>\n",
              "      <td>2020-06-15</td>\n",
              "      <td>0.000026</td>\n",
              "      <td>2020-06</td>\n",
              "    </tr>\n",
              "    <tr>\n",
              "      <th>5188</th>\n",
              "      <td>2020-06-16</td>\n",
              "      <td>0.000008</td>\n",
              "      <td>2020-06</td>\n",
              "    </tr>\n",
              "    <tr>\n",
              "      <th>5189</th>\n",
              "      <td>2020-06-17</td>\n",
              "      <td>0.000008</td>\n",
              "      <td>2020-06</td>\n",
              "    </tr>\n",
              "    <tr>\n",
              "      <th>5190</th>\n",
              "      <td>2020-06-18</td>\n",
              "      <td>0.000009</td>\n",
              "      <td>2020-06</td>\n",
              "    </tr>\n",
              "    <tr>\n",
              "      <th>5191</th>\n",
              "      <td>2020-06-19</td>\n",
              "      <td>0.000008</td>\n",
              "      <td>2020-06</td>\n",
              "    </tr>\n",
              "  </tbody>\n",
              "</table>\n",
              "<p>5095 rows × 3 columns</p>\n",
              "</div>"
            ],
            "text/plain": [
              "           Dates  d_return year_month\n",
              "97    2000-04-20  0.000168    2000-04\n",
              "98    2000-04-25  0.000840    2000-04\n",
              "99    2000-04-26  0.000168    2000-04\n",
              "100   2000-04-27  0.000169    2000-04\n",
              "101   2000-04-28  0.000170    2000-04\n",
              "...          ...       ...        ...\n",
              "5187  2020-06-15  0.000026    2020-06\n",
              "5188  2020-06-16  0.000008    2020-06\n",
              "5189  2020-06-17  0.000008    2020-06\n",
              "5190  2020-06-18  0.000009    2020-06\n",
              "5191  2020-06-19  0.000008    2020-06\n",
              "\n",
              "[5095 rows x 3 columns]"
            ]
          },
          "metadata": {
            "tags": []
          },
          "execution_count": 6
        }
      ]
    },
    {
      "cell_type": "markdown",
      "metadata": {
        "id": "WaLM4hfiGe8z",
        "colab_type": "text"
      },
      "source": [
        "Make monthly return for Libor, \n",
        "Note this m_return is (price_t.iloc[-1] - price_t-1.iloc[-1])/ ... ,  \n",
        "not exactly same as (price_t.iloc[-1] - price_t.iloc[0])/ ... where I calculate stock return and market return\n"
      ]
    },
    {
      "cell_type": "code",
      "metadata": {
        "id": "UFQsPVU3tkwl",
        "colab_type": "code",
        "colab": {}
      },
      "source": [
        "# initial monthly libor return\n",
        "libor_rate_m = pd.DataFrame({'year_month': libor_rate['year_month'].unique()})\n",
        "# note this m_return is (price_t.iloc[-1] - price_t-1.iloc[-1])/ ... ,  not exactly same as (price_t.iloc[-1] - price_t.iloc[0])/ ...\n",
        "libor_rate_m['m_return'] = libor_rate.groupby('year_month').apply(lambda df: (df.d_return + 1).cumprod().iloc[-1] - 1 ).to_list()"
      ],
      "execution_count": null,
      "outputs": []
    },
    {
      "cell_type": "code",
      "metadata": {
        "id": "6AEbruAq5Rh3",
        "colab_type": "code",
        "colab": {
          "base_uri": "https://localhost:8080/",
          "height": 313
        },
        "outputId": "028f6619-1223-4447-f7b7-8f32e455395a"
      },
      "source": [
        "libor_rate_m.plot(x = 'year_month',y = 'm_return')\n",
        "plt.ylabel('monthly return')\n",
        "plt.title('Monthly return for Libor')"
      ],
      "execution_count": null,
      "outputs": [
        {
          "output_type": "execute_result",
          "data": {
            "text/plain": [
              "Text(0.5, 1.0, 'Monthly return for Libor')"
            ]
          },
          "metadata": {
            "tags": []
          },
          "execution_count": 5
        },
        {
          "output_type": "display_data",
          "data": {
            "image/png": "[encoded data removed]",
            "text/plain": [
              "<Figure size 432x288 with 1 Axes>"
            ]
          },
          "metadata": {
            "tags": [],
            "needs_background": "light"
          }
        }
      ]
    },
    {
      "cell_type": "code",
      "metadata": {
        "id": "OO3sodjmYP-_",
        "colab_type": "code",
        "colab": {}
      },
      "source": [
        "# libor_rate.isna().sum()\n",
        "# libor_rate.return does not have na, however,dates are not exactly daily, no weekends and no 1-1 ~ 1-3"
      ],
      "execution_count": null,
      "outputs": []
    },
    {
      "cell_type": "markdown",
      "metadata": {
        "id": "2sXaLNgysJ7l",
        "colab_type": "text"
      },
      "source": [
        "### Read Spxt, market index\n",
        "\n",
        "\n",
        "\n",
        "Dow Jones, S&P 500 and Nasdaq Composite\n",
        "\n",
        "I only use spxt sheet, Vix sheet is ignored...\n",
        "\n"
      ]
    },
    {
      "cell_type": "code",
      "metadata": {
        "id": "bBIVfgzBsHLO",
        "colab_type": "code",
        "colab": {}
      },
      "source": [
        "spxt = pd.read_excel('/content/drive/My Drive/SWIB Quant Intern/data folder/SPXTVIX.xlsx',sheet_name='SPXT')  \n",
        "spxt['year_month'] = pd.to_datetime(spxt['Dates']).dt.to_period('M')\n",
        "spxt['Dates'] = pd.to_datetime(spxt['Dates']).dt.to_period('D')"
      ],
      "execution_count": null,
      "outputs": []
    },
    {
      "cell_type": "code",
      "metadata": {
        "id": "9FgVSKp4JVsg",
        "colab_type": "code",
        "colab": {
          "base_uri": "https://localhost:8080/",
          "height": 419
        },
        "outputId": "c4353313-8e4c-42bd-d7d6-1e1af98df44e"
      },
      "source": [
        "# spxt does not have Nan, hence does not need fillna('ffill')\n",
        "# spxt.isna().sum()\n",
        "spxt"
      ],
      "execution_count": null,
      "outputs": [
        {
          "output_type": "execute_result",
          "data": {
            "text/html": [
              "<div>\n",
              "<style scoped>\n",
              "    .dataframe tbody tr th:only-of-type {\n",
              "        vertical-align: middle;\n",
              "    }\n",
              "\n",
              "    .dataframe tbody tr th {\n",
              "        vertical-align: top;\n",
              "    }\n",
              "\n",
              "    .dataframe thead th {\n",
              "        text-align: right;\n",
              "    }\n",
              "</style>\n",
              "<table border=\"1\" class=\"dataframe\">\n",
              "  <thead>\n",
              "    <tr style=\"text-align: right;\">\n",
              "      <th></th>\n",
              "      <th>Dates</th>\n",
              "      <th>SPXT</th>\n",
              "      <th>year_month</th>\n",
              "    </tr>\n",
              "  </thead>\n",
              "  <tbody>\n",
              "    <tr>\n",
              "      <th>0</th>\n",
              "      <td>2000-01-03</td>\n",
              "      <td>2002.11</td>\n",
              "      <td>2000-01</td>\n",
              "    </tr>\n",
              "    <tr>\n",
              "      <th>1</th>\n",
              "      <td>2000-01-04</td>\n",
              "      <td>1925.41</td>\n",
              "      <td>2000-01</td>\n",
              "    </tr>\n",
              "    <tr>\n",
              "      <th>2</th>\n",
              "      <td>2000-01-05</td>\n",
              "      <td>1929.28</td>\n",
              "      <td>2000-01</td>\n",
              "    </tr>\n",
              "    <tr>\n",
              "      <th>3</th>\n",
              "      <td>2000-01-06</td>\n",
              "      <td>1931.51</td>\n",
              "      <td>2000-01</td>\n",
              "    </tr>\n",
              "    <tr>\n",
              "      <th>4</th>\n",
              "      <td>2000-01-07</td>\n",
              "      <td>1983.83</td>\n",
              "      <td>2000-01</td>\n",
              "    </tr>\n",
              "    <tr>\n",
              "      <th>...</th>\n",
              "      <td>...</td>\n",
              "      <td>...</td>\n",
              "      <td>...</td>\n",
              "    </tr>\n",
              "    <tr>\n",
              "      <th>5330</th>\n",
              "      <td>2020-06-08</td>\n",
              "      <td>6615.40</td>\n",
              "      <td>2020-06</td>\n",
              "    </tr>\n",
              "    <tr>\n",
              "      <th>5331</th>\n",
              "      <td>2020-06-09</td>\n",
              "      <td>6564.27</td>\n",
              "      <td>2020-06</td>\n",
              "    </tr>\n",
              "    <tr>\n",
              "      <th>5332</th>\n",
              "      <td>2020-06-10</td>\n",
              "      <td>6529.42</td>\n",
              "      <td>2020-06</td>\n",
              "    </tr>\n",
              "    <tr>\n",
              "      <th>5333</th>\n",
              "      <td>2020-06-11</td>\n",
              "      <td>6145.30</td>\n",
              "      <td>2020-06</td>\n",
              "    </tr>\n",
              "    <tr>\n",
              "      <th>5334</th>\n",
              "      <td>2020-06-12</td>\n",
              "      <td>6145.30</td>\n",
              "      <td>2020-06</td>\n",
              "    </tr>\n",
              "  </tbody>\n",
              "</table>\n",
              "<p>5335 rows × 3 columns</p>\n",
              "</div>"
            ],
            "text/plain": [
              "           Dates     SPXT year_month\n",
              "0     2000-01-03  2002.11    2000-01\n",
              "1     2000-01-04  1925.41    2000-01\n",
              "2     2000-01-05  1929.28    2000-01\n",
              "3     2000-01-06  1931.51    2000-01\n",
              "4     2000-01-07  1983.83    2000-01\n",
              "...          ...      ...        ...\n",
              "5330  2020-06-08  6615.40    2020-06\n",
              "5331  2020-06-09  6564.27    2020-06\n",
              "5332  2020-06-10  6529.42    2020-06\n",
              "5333  2020-06-11  6145.30    2020-06\n",
              "5334  2020-06-12  6145.30    2020-06\n",
              "\n",
              "[5335 rows x 3 columns]"
            ]
          },
          "metadata": {
            "tags": []
          },
          "execution_count": 10
        }
      ]
    },
    {
      "cell_type": "markdown",
      "metadata": {
        "id": "O8Imylmw5M0E",
        "colab_type": "text"
      },
      "source": [
        "Originally I thought some dates are missing, However, it is weekends. Sunday Saturday don't have data. "
      ]
    },
    {
      "cell_type": "markdown",
      "metadata": {
        "id": "TJd1Bhzu5ikQ",
        "colab_type": "text"
      },
      "source": [
        "Calculate month return and daily return. \n",
        "\n",
        "we need daily return to calculate beta, and monthly return for calculate excess return.\n",
        "\n",
        "From Roger:\"For monthly data,  if we need to predict T+1, we can use data up to T\n",
        "In that case, Mom1M is T excess return\n",
        "Momentum is T-11 to T -1\n",
        "Momentum is T-36 to T\n",
        "We can start with only these 3 momentum signal\"\n",
        "\n",
        "At this point, my understanding is that, we need to calculate (T-11 to T-1) and (T-36 to T ) cumulative excess return.  What I did before was rolling T-11 to T-1 monthly excess return.\n",
        "\n",
        "Updates: From paper ML and its previous paper, suppose we were at month t-1 to predict month t. And Y is absolute return - rf.\n",
        "1. maxrev: Maximum daily return from returns during calendar month t-1.\n",
        "2. mom12m: 11-month cumulative returns ending one month before month end. t-12:t-2.\n",
        "3. mom1m: 1-month cumulative return. t-1\n",
        "4. mom36m: Cumulative returns from months t -36 to t-13.\n",
        "5. mom6m: 5-month cumulative returns ending one month before month end,t-6:t-2\n",
        "7. retvol: Standard deviation of daily returns from month t-1.\n",
        "\n",
        "Note that previously I supposed we were at month t to predict t+1"
      ]
    },
    {
      "cell_type": "code",
      "metadata": {
        "id": "DqUivMqyKGTZ",
        "colab_type": "code",
        "colab": {}
      },
      "source": [
        "# 1. spxt daily market data, which has date, daily return. \n",
        "# 2. spxt_m monthly market data, which has year_month, m_return,mom12, mom36  \n",
        "\n",
        "# df.loc[mask, 'name']  returns a series instead of scalar, df.loc[mask, 'name'].iloc[0] returns a scalar however, if series is empty will get error\n",
        "def empty_series(ele, loc = 0): return np.nan if ele.empty else ele.iloc[loc]\n",
        "# \n",
        "spxt['d_return'] = spxt['SPXT'].pct_change()\n",
        "# note that when left_join libor_rate to spxt, there will be nans, since some dates in spxt are missing in libor\n",
        "spxt['libor_d_return'] = [empty_series(libor_rate.loc[libor_rate['Dates'] == t,'d_return']) for t in spxt['Dates']]\n",
        "# impute nas using ffill.\n",
        "spxt['libor_d_return'] = spxt['libor_d_return'].fillna(method='ffill')\n",
        "spxt['market_risk_premium'] = spxt['d_return']- spxt['libor_d_return']"
      ],
      "execution_count": null,
      "outputs": []
    },
    {
      "cell_type": "markdown",
      "metadata": {
        "id": "XgVKVBNOIMCT",
        "colab_type": "text"
      },
      "source": [
        "When left_join libor_d to Spxt, there are 168 nas for libor_d_return, the reason is that libor_d does not have that dates' data."
      ]
    },
    {
      "cell_type": "code",
      "metadata": {
        "id": "lpI-DNqoHn9t",
        "colab_type": "code",
        "colab": {
          "base_uri": "https://localhost:8080/",
          "height": 136
        },
        "outputId": "05a3ff15-b18d-42a8-db2c-8999ef0fb038"
      },
      "source": [
        "# na filled, \n",
        "spxt.isna().sum()"
      ],
      "execution_count": null,
      "outputs": [
        {
          "output_type": "execute_result",
          "data": {
            "text/plain": [
              "Dates                  0\n",
              "SPXT                   0\n",
              "year_month             0\n",
              "d_return               1\n",
              "libor_d_return         1\n",
              "market_risk_premium    1\n",
              "dtype: int64"
            ]
          },
          "metadata": {
            "tags": []
          },
          "execution_count": 8
        }
      ]
    },
    {
      "cell_type": "code",
      "metadata": {
        "id": "mTLiae4Y-G18",
        "colab_type": "code",
        "colab": {
          "base_uri": "https://localhost:8080/",
          "height": 312
        },
        "outputId": "20b1c944-8f0e-4a19-c5e3-2534dc451a1a"
      },
      "source": [
        "spxt.plot(x= 'Dates', y = ['d_return','libor_d_return'])\n",
        "plt.legend(['market_return', \"libor_d_return\"])\n",
        "plt.title('Daily return for Market and libor')"
      ],
      "execution_count": null,
      "outputs": [
        {
          "output_type": "execute_result",
          "data": {
            "text/plain": [
              "Text(0.5, 1.0, 'Daily return for Market and libor')"
            ]
          },
          "metadata": {
            "tags": []
          },
          "execution_count": 9
        },
        {
          "output_type": "display_data",
          "data": {
            "image/png": "[encoded data removed]",
            "text/plain": [
              "<Figure size 432x288 with 1 Axes>"
            ]
          },
          "metadata": {
            "tags": [],
            "needs_background": "light"
          }
        }
      ]
    },
    {
      "cell_type": "code",
      "metadata": {
        "id": "53bFSAwD99Ct",
        "colab_type": "code",
        "colab": {}
      },
      "source": [
        "# initialize df spxt_m\n",
        "spxt_m = pd.DataFrame({'year_month': spxt.year_month.unique()})\n",
        "# monthly return for market\n",
        "spxt_m['m_return'] = [ ( spxt.loc[spxt['year_month'] == T, 'SPXT'].iloc[-1] -  spxt.loc[spxt['year_month'] == T, 'SPXT'].iloc[0] )/\n",
        "                      spxt.loc[spxt['year_month'] == T, 'SPXT'].iloc[0] for T in spxt_m['year_month']] \n",
        "spxt_m['mom12m'] = [ ( empty_series( spxt.loc[spxt['year_month'] == T -1,'SPXT'], -1) - empty_series(spxt.loc[spxt['year_month'] == T -11,'SPXT']) ) / \n",
        "                                empty_series(spxt.loc[spxt['year_month'] == T -11,'SPXT'])\n",
        "                                for T in spxt_m['year_month']]\n",
        "# cumulative T-36 to T-13 cumulative return\n",
        "spxt_m['mom36m'] = [ ( empty_series( spxt.loc[spxt['year_month'] == T -12,'SPXT'], -1) - empty_series(spxt.loc[spxt['year_month'] == T -35,'SPXT']) ) / \n",
        "                                empty_series(spxt.loc[spxt['year_month'] == T -35,'SPXT'])\n",
        "                                for T in spxt_m['year_month']]\n",
        "\n",
        "spxt_m['mom6m'] = [ ( empty_series( spxt.loc[spxt['year_month'] == T -1,'SPXT'], -1) - empty_series(spxt.loc[spxt['year_month'] == T -5,'SPXT']) ) / \n",
        "                               empty_series(spxt.loc[spxt['year_month'] == T -5,'SPXT'])\n",
        "                               for T in spxt_m['year_month']]\n",
        "spxt_m['libor_m_return'] = [empty_series(libor_rate_m.loc[libor_rate_m['year_month'] == T,'m_return']) for T in spxt_m['year_month']]\n"
      ],
      "execution_count": null,
      "outputs": []
    },
    {
      "cell_type": "code",
      "metadata": {
        "id": "a4DvjHCQMdYd",
        "colab_type": "code",
        "colab": {
          "base_uri": "https://localhost:8080/",
          "height": 136
        },
        "outputId": "f2cccee8-aa0b-401b-bad7-279b270d4907"
      },
      "source": [
        "spxt_m.isna().sum()"
      ],
      "execution_count": null,
      "outputs": [
        {
          "output_type": "execute_result",
          "data": {
            "text/plain": [
              "year_month         0\n",
              "m_return           0\n",
              "mom12m            11\n",
              "mom36m            35\n",
              "mom6m              5\n",
              "libor_m_return     0\n",
              "dtype: int64"
            ]
          },
          "metadata": {
            "tags": []
          },
          "execution_count": 11
        }
      ]
    },
    {
      "cell_type": "code",
      "metadata": {
        "id": "udXQmZx6A1Cq",
        "colab_type": "code",
        "colab": {
          "base_uri": "https://localhost:8080/",
          "height": 313
        },
        "outputId": "4c4dc67a-2310-428c-ba8d-71d89eeaca4d"
      },
      "source": [
        "spxt_m.plot(x= 'year_month', y = ['m_return','libor_m_return'])\n",
        "plt.legend(['market_return', \"libor_return\"])\n",
        "plt.title('Market Monthly return')"
      ],
      "execution_count": null,
      "outputs": [
        {
          "output_type": "execute_result",
          "data": {
            "text/plain": [
              "Text(0.5, 1.0, 'Market Monthly return')"
            ]
          },
          "metadata": {
            "tags": []
          },
          "execution_count": 12
        },
        {
          "output_type": "display_data",
          "data": {
            "image/png": "[encoded data removed]",
            "text/plain": [
              "<Figure size 432x288 with 1 Axes>"
            ]
          },
          "metadata": {
            "tags": [],
            "needs_background": "light"
          }
        }
      ]
    },
    {
      "cell_type": "code",
      "metadata": {
        "id": "fViX48AuttsI",
        "colab_type": "code",
        "colab": {
          "base_uri": "https://localhost:8080/",
          "height": 313
        },
        "outputId": "4173ca45-5113-4b04-8bd0-dce36ceac3f2"
      },
      "source": [
        "spxt_m.plot(x= 'year_month', y = ['mom6m','mom12m','mom36m'])\n",
        "# plt.legend([''])\n",
        "plt.title('Market Monthly Momentum')"
      ],
      "execution_count": null,
      "outputs": [
        {
          "output_type": "execute_result",
          "data": {
            "text/plain": [
              "Text(0.5, 1.0, 'Market Monthly Momentum')"
            ]
          },
          "metadata": {
            "tags": []
          },
          "execution_count": 13
        },
        {
          "output_type": "display_data",
          "data": {
            "image/png": "[encoded data removed]",
            "text/plain": [
              "<Figure size 432x288 with 1 Axes>"
            ]
          },
          "metadata": {
            "tags": [],
            "needs_background": "light"
          }
        }
      ]
    },
    {
      "cell_type": "markdown",
      "metadata": {
        "id": "DK5BH2BetfZW",
        "colab_type": "text"
      },
      "source": [
        "### Read individual stock index"
      ]
    },
    {
      "cell_type": "code",
      "metadata": {
        "id": "Gtoso-rAtgHq",
        "colab_type": "code",
        "colab": {}
      },
      "source": [
        "def load_basic_data(fileName):\n",
        "\n",
        "        tempDF = pd.read_parquet(fileName)\n",
        "        \n",
        "        tempDF['date'] = pd.to_datetime(tempDF['date'])\n",
        "\n",
        "        tempDF['year_month'] = pd.to_datetime(tempDF['date']).dt.to_period('M'); \n",
        "\n",
        "        tempDF['date'] = pd.to_datetime(tempDF['date']).dt.to_period('D'); \n",
        " \n",
        "        return tempDF\n",
        "\n",
        "tempDF = load_basic_data(\"/content/drive/My Drive/SWIB Quant Intern/data folder/SP500.pq\")"
      ],
      "execution_count": 6,
      "outputs": []
    },
    {
      "cell_type": "code",
      "metadata": {
        "id": "IKXs4t2i1lhF",
        "colab_type": "code",
        "colab": {
          "base_uri": "https://localhost:8080/",
          "height": 282
        },
        "outputId": "75e40818-5c8c-4f16-bee9-80572795bc7e"
      },
      "source": [
        "# all stock_i, groupby sedol,  number of dates in a month, and total month\n",
        "num_of_days = tempDF.groupby(['sedol','year_month']).size().to_frame().reset_index().rename(columns={0:'num_of_dates'})\n",
        "num_of_month = num_of_days.groupby('sedol').year_month.size().to_frame().reset_index().rename(columns={'year_month':'total_month'}).sort_values(by = 'total_month')\n",
        "tempDF.groupby('sedol').size().to_frame().reset_index().boxplot(0)"
      ],
      "execution_count": null,
      "outputs": [
        {
          "output_type": "execute_result",
          "data": {
            "text/plain": [
              "<matplotlib.axes._subplots.AxesSubplot at 0x7fc09f580668>"
            ]
          },
          "metadata": {
            "tags": []
          },
          "execution_count": 37
        },
        {
          "output_type": "display_data",
          "data": {
            "image/png": "[encoded data removed]",
            "text/plain": [
              "<Figure size 432x288 with 1 Axes>"
            ]
          },
          "metadata": {
            "tags": [],
            "needs_background": "light"
          }
        }
      ]
    },
    {
      "cell_type": "code",
      "metadata": {
        "id": "XPWgZN9ry_Mz",
        "colab_type": "code",
        "colab": {
          "base_uri": "https://localhost:8080/",
          "height": 313
        },
        "outputId": "2889d05e-b74f-48a2-f5ad-cca82346cb17"
      },
      "source": [
        "num_of_month.boxplot('total_month')\n",
        "plt.title('num of total month')"
      ],
      "execution_count": null,
      "outputs": [
        {
          "output_type": "execute_result",
          "data": {
            "text/plain": [
              "Text(0.5, 0, 'num of total month')"
            ]
          },
          "metadata": {
            "tags": []
          },
          "execution_count": 27
        },
        {
          "output_type": "display_data",
          "data": {
            "image/png": "[encoded data removed]",
            "text/plain": [
              "<Figure size 432x288 with 1 Axes>"
            ]
          },
          "metadata": {
            "tags": [],
            "needs_background": "light"
          }
        }
      ]
    },
    {
      "cell_type": "markdown",
      "metadata": {
        "id": "O6iX49hB4Lpd",
        "colab_type": "text"
      },
      "source": [
        "# Build Signals\n",
        "\n",
        "For each stock_i where $i \\in \\{ 1,...1069\\}$. we convert daily data to monthly data in order to remove noise. We group daily data by year_month. Suppose month T is the current month.\n",
        "\n",
        "stock_i_Month_T return = (Price_T.iloc[-1] - Price_T.iloc[0]) / Price_T.iloc[0]. (This is a little different from libor monthly return where we used Price_T.iloc[-1] - Price_T-1.iloc[-1]/... since we don't have price data for libor.)\n",
        "\n",
        "stock_i_month_T_excess_return = stock_i_month_T_return - market_month_T_return.\n",
        "\n",
        "stock_i_excess_mom = stock_i_mom - market_mom \n",
        "\n",
        "Since our prediction is excess return, momentum should be in the same space as Y.\n",
        "\n",
        "  Y: next month excess return(T+1). \n",
        "\n",
        "  Mom1m:  this month excess return (T)\n",
        "\n",
        "  Mom12m: previous T-11:T-1 cumulative excess return.\n",
        "\n",
        "  mom36: T-35:T-12 cumulative excess return.  \n",
        "\n",
        "  maxret1 : max monthly excess return in the last 12 month\n",
        "\n",
        "  maxret2 : max daily excess return in the last 1 month\n",
        "\n",
        "  turnover: dollar volume / market cap\n",
        "\n",
        "  beta: roll 252 days calculation against index. return_i - rf = beta * (return_m - rf). Beta time-dependent: Beta_i_T I used the lastest available 252 days before last day of monthT. Set threshold ==100 if latest available dates are smaller than 100, beta is nan.\n",
        "\n",
        "  beta^2\n",
        "\n",
        "  retvol: stdev(daily excess return)*sqrt(252). ?  Spaces have to be consistent with y,use daily excess return instead of daily return. \n",
        "\n",
        "  idiovol: stdev(daily regression residual)*sqrt(252)\n",
        "\n",
        "Note: We cross sectionally rank all features, At first I didn't rank Y, however, the R^2 and SHAP are very bad, so I ranked Y to make it better.  "
      ]
    },
    {
      "cell_type": "code",
      "metadata": {
        "id": "CYMjuIs16XWD",
        "colab_type": "code",
        "colab": {}
      },
      "source": [
        "# remove stocks with total dates smaller than 252.  \n",
        "# total_dates = tempDF.groupby('sedol').size().to_frame().reset_index().rename(columns={0:'total_dates'})\n",
        "# stock_id = list(total_dates.loc[total_dates['total_dates'] >=252 ,'sedol'])\n",
        "# print(len(stock_id))"
      ],
      "execution_count": null,
      "outputs": []
    },
    {
      "cell_type": "code",
      "metadata": {
        "id": "i5TiyIIE8OuJ",
        "colab_type": "code",
        "colab": {}
      },
      "source": [
        "# for all stock_id\n",
        "# stock id, total of 1069 stocks,  remove unwanted sedols afterwards. \n",
        "# stock_i is daily data, spxt is market daily data.  spxt_m is market monthly data .stock_i_month is what should be returned.\n",
        "stock_id = list(tempDF.sedol.unique()) \n",
        "\n",
        "stock_month = pd.DataFrame({'year_month':[],'sedol':[],'sector':[],'m_volume':[],\n",
        "                            'm_return':[], 'spxt_m_return':[],'excess_return':[],\n",
        "                            'next_month_excess_return':[], # shift \n",
        "                            'mom6m':[],'spxt_mom6m':[], 'excess_mom6m':[],\n",
        "                            'mom12m':[],'spxt_mom12m':[], 'excess_mom12m':[],\n",
        "                            'mom36m':[],'spxt_mom36m':[], 'excess_mom36m':[],\n",
        "                            'maxret1':[],'maxret2':[],'dollarVolume':[],'mktcap':[],'turnover':[],\n",
        "                            'beta':[],'beta_sq':[],'retvol':[],'idiovol':[] })\n",
        "\n",
        "\n",
        "# for stock i, 0-300, 300-600, 600-1069\n",
        "for i in np.arange(0,300):\n",
        "    print(i)\n",
        "    # stock_i is daily, which is used for constructing stock_month\n",
        "    stock_i = tempDF[tempDF['sedol'] == stock_id[i]]; stock_i = stock_i.sort_values(by = ['date']) # make sure the date is correct\n",
        "    stock_i = stock_i.fillna(method = 'ffill')\n",
        "    stock_i_sector = stock_i['sector'].unique() # sometimes na + sector\n",
        "    time_i = list(stock_i['year_month'].unique())\n",
        "\n",
        "    # intitial new df using spxt_m, save stock_i monthly data, use spxt mom to obtain excess momentum.\n",
        "    stock_i_month = spxt_m.loc[spxt_m['year_month'].isin(time_i),['year_month','m_return','mom6m','mom12m','mom36m']].sort_values(by = 'year_month').rename(\n",
        "        columns={'m_return':'spxt_m_return','mom6m':'spxt_mom6m','mom12m':'spxt_mom12m','mom36m':'spxt_mom36m'})\n",
        "\n",
        "    # stock id and sector\n",
        "    stock_i_month.insert(1, 'sedol', stock_id[i]); stock_i_month.insert(2,'sector',  stock_i_sector[-1])\n",
        "\n",
        "    # Since it is VOLUME_AVG_30D, I use the .iloc[-1] of that month to represent that month's volume.\n",
        "    stock_i_month['m_volume'] = [  stock_i[stock_i['year_month'] == T]['VOLUME_AVG_30D'].iloc[-1]   for T in time_i ]\n",
        "\n",
        "    # stock_i monthly return, (price.T.iloc[-1] - price.T.iloc[0] ) / price.T.iloc[0]\n",
        "    stock_i_month['m_return'] = [ (stock_i[stock_i['year_month'] == T].LAST_PRICE.iloc[-1] - stock_i[stock_i['year_month'] == T].LAST_PRICE.iloc[0])/ \n",
        "                                stock_i[stock_i['year_month'] == T].LAST_PRICE.iloc[0]  for T in time_i ]\n",
        "\n",
        "    # stock_ i excess return\n",
        "    stock_i_month['excess_return'] = stock_i_month['m_return'] - stock_i_month['spxt_m_return']\n",
        "\n",
        "    # next month excess return (T+1), Y, shift\n",
        "    stock_i_month['next_month_excess_return'] = stock_i_month['excess_return'].shift(-1)  # [ empty_series( stock_i_month[stock_i_month['year_month'] == T+1 ].excess_return ) for T in time_i]   #.  np.concatenate( ( stock_i_month['excess_return'].to_list()[1:] , [np.nan]) )\n",
        "\n",
        "    # mom6m: \n",
        "    stock_i_month['mom6m'] = [ (empty_series(stock_i[stock_i['year_month'] == T-1].LAST_PRICE, -1) - empty_series(stock_i[stock_i['year_month'] == T-5].LAST_PRICE,0) )/ \n",
        "                                empty_series(stock_i[stock_i['year_month'] == T-5].LAST_PRICE,0)  for T in time_i ]\n",
        "\n",
        "    stock_i_month['excess_mom6m'] = stock_i_month['mom6m'] - stock_i_month['spxt_mom6m']\n",
        "\n",
        "    # Momentum, previous T-11 :  T-1 month excess cumulative return. \n",
        "    stock_i_month['mom12m'] = [ (empty_series(stock_i[stock_i['year_month'] == T -1].LAST_PRICE, -1) - empty_series(stock_i[stock_i['year_month'] == T-11].LAST_PRICE,0) )/ \n",
        "                                empty_series(stock_i[stock_i['year_month'] == T-11].LAST_PRICE,0)  for T in time_i ]\n",
        "\n",
        "    stock_i_month['excess_mom12m'] = stock_i_month['mom12m'] - stock_i_month['spxt_mom12m']\n",
        "    # mom36: last 36 month excess cumulative return.\n",
        "    stock_i_month['mom36m'] = [ (empty_series(stock_i[stock_i['year_month'] == T-12].LAST_PRICE, -1) - empty_series(stock_i[stock_i['year_month'] == T-35].LAST_PRICE,0) )/ \n",
        "                                empty_series(stock_i[stock_i['year_month'] == T-35].LAST_PRICE,0)  for T in time_i ]\n",
        "\n",
        "    stock_i_month['excess_mom36m'] = stock_i_month['mom36m'] - stock_i_month['spxt_mom36m']\n",
        "\n",
        "    # maxret1, max monthly excess return in the last 12 month, from T-12 : T\n",
        "    def maxret1(series):\n",
        "        return np.nan if series.size < 12 else series.max()\n",
        "    stock_i_month['maxret1'] = [ maxret1( stock_i_month[ (stock_i_month['year_month'] >= T -12 ) & (stock_i_month['year_month'] <= T  )].excess_return)  for T in time_i]\n",
        "    # maxret2, max daily excess return in the last 1 month\n",
        "    stock_i_month['maxret2'] = [ stock_i[stock_i['year_month'] == T].d_return.max()  for T in time_i]\n",
        "\n",
        "    # turnover: dollarvolume/ marketcap\n",
        "    # Dollarvolume,  dollarVolume_T.iloc[-1].  which equals to price_T.iloc[-1]* volume_T.iloc[-1]\n",
        "    # marketcap mktcap_T.mean()\n",
        "    stock_i_month['dollarVolume'] = [stock_i[stock_i['year_month'] == T].dollarVolume.iloc[-1]  for T in time_i]\n",
        "    stock_i_month['mktcap'] = [ stock_i[stock_i['year_month'] == T].mktcap.mean()    for T in time_i]\n",
        "    stock_i_month['turnover'] = stock_i_month['dollarVolume']/stock_i_month['mktcap']\n",
        "    \n",
        "    # beta, roll 252 days , r_i -rf ~ beta r_m -rf.\n",
        "    beta = list()\n",
        "    retvol = list()\n",
        "    idiovol = list()\n",
        "    for T in time_i:\n",
        "      last_date = stock_i[stock_i['year_month'] == T].date.iloc[-1]\n",
        "      start_date = last_date - 252\n",
        "      # daily data for stock_i, for the most recent 252 days, however, maybe not available up to 252 days. set threshold ==100\n",
        "      stock_i_T = stock_i.loc[ (stock_i['date'] >= start_date) &  (stock_i['date'] <= last_date), ['date','sedol','d_return']]\n",
        "      # if available data smaller than 100, return nan.\n",
        "      if stock_i_T.date.size <=100: \n",
        "        beta.append(np.nan)\n",
        "        retvol.append(np.nan)\n",
        "        idiovol.append(np.nan)\n",
        "        continue\n",
        "      # def empty_series, if at date_t, spxt[ spxt['Dates'] == str(t) ].d_return maybe empty series, then iloc will get error\n",
        "      stock_i_T['spxt_d_return'] = [ empty_series( spxt[ spxt['Dates'] == t ].d_return  )  for t in stock_i_T['date']  ] \n",
        "      stock_i_T['spxt_d_return'] = stock_i_T['spxt_d_return'].fillna(method = 'ffill')\n",
        "      # daily excess return\n",
        "      stock_i_T['excess_return'] = stock_i_T['d_return'] - stock_i_T['spxt_d_return']\n",
        "      # libor return\n",
        "      stock_i_T['libor_return'] = [ empty_series( libor_rate[ libor_rate['Dates'] == t ].d_return  )  for t in stock_i_T['date']  ] \n",
        "      stock_i_T['libor_return'] = stock_i_T['libor_return'].fillna(method = 'ffill')\n",
        "      # risk premium and market premium\n",
        "      stock_i_T['risk_premium'] = stock_i_T['d_return'] - stock_i_T['libor_return']\n",
        "      stock_i_T['market_premium'] = stock_i_T['spxt_d_return'] - stock_i_T['libor_return']\n",
        "      # retvol: std(excess d_return), for the most recent 252 days, however, maybe not available up to 252 days.\n",
        "      retvol.append(stock_i_T['excess_return'].std())\n",
        "      # run linear regression r_i ~ r_m\n",
        "      reg = LinearRegression().fit(stock_i_T.dropna()[['risk_premium']],stock_i_T.dropna()[['market_premium']] )\n",
        "      beta.append(reg.coef_[0][0])\n",
        "      # residual\n",
        "      predicted = reg.predict(stock_i_T.dropna()[['market_premium']]).reshape((-1,))\n",
        "      residual = stock_i_T.dropna().risk_premium.to_numpy() - predicted\n",
        "      idiovol.append(np.std(residual))\n",
        "      del reg\n",
        "      # garbage collect\n",
        "      del stock_i_T\n",
        "\n",
        "    stock_i_month['beta'] = beta\n",
        "    stock_i_month['beta_sq'] = [ele**2 for ele in beta]\n",
        "    stock_i_month['retvol'] = retvol\n",
        "    stock_i_month['idiovol'] = idiovol\n",
        "\n",
        "    # merge stock_i to previous DF\n",
        "    stock_month = pd.concat([stock_month,stock_i_month])\n",
        "    # garbage collect\n",
        "    del stock_i_month, stock_i\n",
        "\n",
        "\n",
        "# stock_month.to_pickle('/content/drive/My Drive/SWIB Quant Intern/stock_month_0_300.pkl')\n",
        "# Save stock_month as .pkl\n",
        "# It runs slowly So I partitioned the job and merge them\n",
        "# stock_month.to_pickle('/content/drive/My Drive/SWIB Quant Intern/stock_month.pkl')\n",
        "\n"
      ],
      "execution_count": null,
      "outputs": []
    },
    {
      "cell_type": "code",
      "metadata": {
        "id": "T71JVQ_YJHb_",
        "colab_type": "code",
        "colab": {}
      },
      "source": [
        "# read in and combine\n",
        "#df1 = pd.read_pickle('/content/drive/My Drive/SWIB Quant Intern/stock_month_0_300.pkl')\n",
        "#df2 = pd.read_pickle('/content/drive/My Drive/SWIB Quant Intern/stock_month_300_600.pkl')\n",
        "#df3 = pd.read_pickle('/content/drive/My Drive/SWIB Quant Intern/stock_month_600_1069.pkl')\n",
        "#stock_month = pd.concat([df1,df2,df3])\n",
        "#stock_month.to_pickle('/content/drive/My Drive/SWIB Quant Intern/stock_month_6_25.pkl')\n",
        "\n",
        "# Stock_month final data already saved, so directly load\n",
        "stock_month = pd.read_pickle('/content/drive/My Drive/SWIB Quant Intern/stock_month_6_25.pkl')\n",
        "\n",
        "# map T: 2001-06: 0,    2020-06 :226\n",
        "# Map 2001-09 - 2020-06 to T 0 - 225\n",
        "T = tempDF['year_month'].unique()\n",
        "T = dict(zip (T,np.arange(len(T))))\n",
        "stock_month['Month_T'] = stock_month['year_month'].map(T)"
      ],
      "execution_count": 7,
      "outputs": []
    },
    {
      "cell_type": "markdown",
      "metadata": {
        "id": "A6T51wDpNBoa",
        "colab_type": "text"
      },
      "source": [
        "### Rank features\n",
        "Next step, Cross sectionally rank all features..."
      ]
    },
    {
      "cell_type": "code",
      "metadata": {
        "id": "ceRzzEcMKDH5",
        "colab_type": "code",
        "colab": {
          "base_uri": "https://localhost:8080/",
          "height": 456
        },
        "outputId": "2ec4ead4-fefb-4366-9bfd-347e4a7d0d48"
      },
      "source": [
        "# save unranked columns, first time didn't rank Y, R-sq -0.04 very bad, let's rank Y to see.\n",
        "# stock_month_r = stock_month.loc[:,['year_month','sedol','Month_T','sector','next_month_excess_return']]\n",
        "stock_month_r = stock_month.loc[:,['year_month','sedol','Month_T','sector']]\n",
        "\n",
        "# combine the ranked columns with previous df\n",
        "stock_month_r = pd.concat( [stock_month_r, stock_month.loc[:,['excess_return', 'excess_mom6m', 'excess_mom12m','excess_mom36m','maxret1','maxret2',\n",
        "                   'turnover','mktcap','beta','beta_sq','retvol','idiovol','Month_T','next_month_excess_return'] ].groupby('Month_T').rank(pct = True)],\n",
        "                   axis=1 )\n",
        "stock_month_r"
      ],
      "execution_count": 116,
      "outputs": [
        {
          "output_type": "execute_result",
          "data": {
            "text/html": [
              "<div>\n",
              "<style scoped>\n",
              "    .dataframe tbody tr th:only-of-type {\n",
              "        vertical-align: middle;\n",
              "    }\n",
              "\n",
              "    .dataframe tbody tr th {\n",
              "        vertical-align: top;\n",
              "    }\n",
              "\n",
              "    .dataframe thead th {\n",
              "        text-align: right;\n",
              "    }\n",
              "</style>\n",
              "<table border=\"1\" class=\"dataframe\">\n",
              "  <thead>\n",
              "    <tr style=\"text-align: right;\">\n",
              "      <th></th>\n",
              "      <th>year_month</th>\n",
              "      <th>sedol</th>\n",
              "      <th>Month_T</th>\n",
              "      <th>sector</th>\n",
              "      <th>excess_return</th>\n",
              "      <th>excess_mom6m</th>\n",
              "      <th>excess_mom12m</th>\n",
              "      <th>excess_mom36m</th>\n",
              "      <th>maxret1</th>\n",
              "      <th>maxret2</th>\n",
              "      <th>turnover</th>\n",
              "      <th>mktcap</th>\n",
              "      <th>beta</th>\n",
              "      <th>beta_sq</th>\n",
              "      <th>retvol</th>\n",
              "      <th>idiovol</th>\n",
              "      <th>next_month_excess_return</th>\n",
              "    </tr>\n",
              "  </thead>\n",
              "  <tbody>\n",
              "    <tr>\n",
              "      <th>20</th>\n",
              "      <td>2001-09</td>\n",
              "      <td>2001692</td>\n",
              "      <td>0</td>\n",
              "      <td>Industrials</td>\n",
              "      <td>0.822000</td>\n",
              "      <td>NaN</td>\n",
              "      <td>NaN</td>\n",
              "      <td>NaN</td>\n",
              "      <td>NaN</td>\n",
              "      <td>0.910000</td>\n",
              "      <td>0.860000</td>\n",
              "      <td>0.196000</td>\n",
              "      <td>NaN</td>\n",
              "      <td>NaN</td>\n",
              "      <td>NaN</td>\n",
              "      <td>NaN</td>\n",
              "      <td>0.124000</td>\n",
              "    </tr>\n",
              "    <tr>\n",
              "      <th>21</th>\n",
              "      <td>2001-10</td>\n",
              "      <td>2001692</td>\n",
              "      <td>1</td>\n",
              "      <td>Industrials</td>\n",
              "      <td>0.123260</td>\n",
              "      <td>NaN</td>\n",
              "      <td>NaN</td>\n",
              "      <td>NaN</td>\n",
              "      <td>NaN</td>\n",
              "      <td>0.697813</td>\n",
              "      <td>0.715706</td>\n",
              "      <td>0.194831</td>\n",
              "      <td>NaN</td>\n",
              "      <td>NaN</td>\n",
              "      <td>NaN</td>\n",
              "      <td>NaN</td>\n",
              "      <td>0.802000</td>\n",
              "    </tr>\n",
              "    <tr>\n",
              "      <th>22</th>\n",
              "      <td>2001-11</td>\n",
              "      <td>2001692</td>\n",
              "      <td>2</td>\n",
              "      <td>Industrials</td>\n",
              "      <td>0.802789</td>\n",
              "      <td>NaN</td>\n",
              "      <td>NaN</td>\n",
              "      <td>NaN</td>\n",
              "      <td>NaN</td>\n",
              "      <td>0.818725</td>\n",
              "      <td>0.840637</td>\n",
              "      <td>0.169323</td>\n",
              "      <td>NaN</td>\n",
              "      <td>NaN</td>\n",
              "      <td>NaN</td>\n",
              "      <td>NaN</td>\n",
              "      <td>0.681363</td>\n",
              "    </tr>\n",
              "    <tr>\n",
              "      <th>23</th>\n",
              "      <td>2001-12</td>\n",
              "      <td>2001692</td>\n",
              "      <td>3</td>\n",
              "      <td>Industrials</td>\n",
              "      <td>0.684524</td>\n",
              "      <td>NaN</td>\n",
              "      <td>NaN</td>\n",
              "      <td>NaN</td>\n",
              "      <td>NaN</td>\n",
              "      <td>0.750000</td>\n",
              "      <td>0.759921</td>\n",
              "      <td>0.182540</td>\n",
              "      <td>NaN</td>\n",
              "      <td>NaN</td>\n",
              "      <td>NaN</td>\n",
              "      <td>NaN</td>\n",
              "      <td>0.958000</td>\n",
              "    </tr>\n",
              "    <tr>\n",
              "      <th>24</th>\n",
              "      <td>2002-01</td>\n",
              "      <td>2001692</td>\n",
              "      <td>4</td>\n",
              "      <td>Industrials</td>\n",
              "      <td>0.958250</td>\n",
              "      <td>NaN</td>\n",
              "      <td>NaN</td>\n",
              "      <td>NaN</td>\n",
              "      <td>NaN</td>\n",
              "      <td>0.882704</td>\n",
              "      <td>0.773360</td>\n",
              "      <td>0.204771</td>\n",
              "      <td>NaN</td>\n",
              "      <td>NaN</td>\n",
              "      <td>NaN</td>\n",
              "      <td>NaN</td>\n",
              "      <td>0.853707</td>\n",
              "    </tr>\n",
              "    <tr>\n",
              "      <th>...</th>\n",
              "      <td>...</td>\n",
              "      <td>...</td>\n",
              "      <td>...</td>\n",
              "      <td>...</td>\n",
              "      <td>...</td>\n",
              "      <td>...</td>\n",
              "      <td>...</td>\n",
              "      <td>...</td>\n",
              "      <td>...</td>\n",
              "      <td>...</td>\n",
              "      <td>...</td>\n",
              "      <td>...</td>\n",
              "      <td>...</td>\n",
              "      <td>...</td>\n",
              "      <td>...</td>\n",
              "      <td>...</td>\n",
              "      <td>...</td>\n",
              "    </tr>\n",
              "    <tr>\n",
              "      <th>245</th>\n",
              "      <td>2020-06</td>\n",
              "      <td>B01SD70</td>\n",
              "      <td>225</td>\n",
              "      <td>Consumer Discretionary</td>\n",
              "      <td>0.073267</td>\n",
              "      <td>NaN</td>\n",
              "      <td>NaN</td>\n",
              "      <td>NaN</td>\n",
              "      <td>NaN</td>\n",
              "      <td>0.104950</td>\n",
              "      <td>0.942574</td>\n",
              "      <td>0.360396</td>\n",
              "      <td>NaN</td>\n",
              "      <td>NaN</td>\n",
              "      <td>NaN</td>\n",
              "      <td>NaN</td>\n",
              "      <td>NaN</td>\n",
              "    </tr>\n",
              "    <tr>\n",
              "      <th>244</th>\n",
              "      <td>2020-05</td>\n",
              "      <td>B0796X4</td>\n",
              "      <td>224</td>\n",
              "      <td>Health Care</td>\n",
              "      <td>0.029528</td>\n",
              "      <td>NaN</td>\n",
              "      <td>NaN</td>\n",
              "      <td>NaN</td>\n",
              "      <td>NaN</td>\n",
              "      <td>0.305118</td>\n",
              "      <td>0.937008</td>\n",
              "      <td>0.708661</td>\n",
              "      <td>NaN</td>\n",
              "      <td>NaN</td>\n",
              "      <td>NaN</td>\n",
              "      <td>NaN</td>\n",
              "      <td>0.031683</td>\n",
              "    </tr>\n",
              "    <tr>\n",
              "      <th>245</th>\n",
              "      <td>2020-06</td>\n",
              "      <td>B0796X4</td>\n",
              "      <td>225</td>\n",
              "      <td>Health Care</td>\n",
              "      <td>0.031683</td>\n",
              "      <td>NaN</td>\n",
              "      <td>NaN</td>\n",
              "      <td>NaN</td>\n",
              "      <td>NaN</td>\n",
              "      <td>0.693069</td>\n",
              "      <td>0.936634</td>\n",
              "      <td>0.667327</td>\n",
              "      <td>NaN</td>\n",
              "      <td>NaN</td>\n",
              "      <td>NaN</td>\n",
              "      <td>NaN</td>\n",
              "      <td>NaN</td>\n",
              "    </tr>\n",
              "    <tr>\n",
              "      <th>244</th>\n",
              "      <td>2020-05</td>\n",
              "      <td>2950482</td>\n",
              "      <td>224</td>\n",
              "      <td>Health Care</td>\n",
              "      <td>0.183071</td>\n",
              "      <td>NaN</td>\n",
              "      <td>NaN</td>\n",
              "      <td>NaN</td>\n",
              "      <td>NaN</td>\n",
              "      <td>0.350394</td>\n",
              "      <td>0.883858</td>\n",
              "      <td>0.397638</td>\n",
              "      <td>NaN</td>\n",
              "      <td>NaN</td>\n",
              "      <td>NaN</td>\n",
              "      <td>NaN</td>\n",
              "      <td>0.055446</td>\n",
              "    </tr>\n",
              "    <tr>\n",
              "      <th>245</th>\n",
              "      <td>2020-06</td>\n",
              "      <td>2950482</td>\n",
              "      <td>225</td>\n",
              "      <td>Health Care</td>\n",
              "      <td>0.055446</td>\n",
              "      <td>NaN</td>\n",
              "      <td>NaN</td>\n",
              "      <td>NaN</td>\n",
              "      <td>NaN</td>\n",
              "      <td>0.011881</td>\n",
              "      <td>0.875248</td>\n",
              "      <td>0.372277</td>\n",
              "      <td>NaN</td>\n",
              "      <td>NaN</td>\n",
              "      <td>NaN</td>\n",
              "      <td>NaN</td>\n",
              "      <td>NaN</td>\n",
              "    </tr>\n",
              "  </tbody>\n",
              "</table>\n",
              "<p>113594 rows × 17 columns</p>\n",
              "</div>"
            ],
            "text/plain": [
              "    year_month    sedol  Month_T  ... retvol  idiovol  next_month_excess_return\n",
              "20     2001-09  2001692        0  ...    NaN      NaN                  0.124000\n",
              "21     2001-10  2001692        1  ...    NaN      NaN                  0.802000\n",
              "22     2001-11  2001692        2  ...    NaN      NaN                  0.681363\n",
              "23     2001-12  2001692        3  ...    NaN      NaN                  0.958000\n",
              "24     2002-01  2001692        4  ...    NaN      NaN                  0.853707\n",
              "..         ...      ...      ...  ...    ...      ...                       ...\n",
              "245    2020-06  B01SD70      225  ...    NaN      NaN                       NaN\n",
              "244    2020-05  B0796X4      224  ...    NaN      NaN                  0.031683\n",
              "245    2020-06  B0796X4      225  ...    NaN      NaN                       NaN\n",
              "244    2020-05  2950482      224  ...    NaN      NaN                  0.055446\n",
              "245    2020-06  2950482      225  ...    NaN      NaN                       NaN\n",
              "\n",
              "[113594 rows x 17 columns]"
            ]
          },
          "metadata": {
            "tags": []
          },
          "execution_count": 116
        }
      ]
    },
    {
      "cell_type": "markdown",
      "metadata": {
        "id": "HrQ0KGm7OFF2",
        "colab_type": "text"
      },
      "source": [
        "Cross sectionally rank all features, and checked that each month has 491~ 512 stocks. "
      ]
    },
    {
      "cell_type": "code",
      "metadata": {
        "id": "ytr5R-SgQDZY",
        "colab_type": "code",
        "colab": {
          "base_uri": "https://localhost:8080/",
          "height": 297
        },
        "outputId": "c70876e8-a466-4c88-f762-3de290ec55b6"
      },
      "source": [
        "# How many stocks in each month, 491 ~ 512\n",
        "stock_month.groupby('Month_T').sedol.size().plot()\n",
        "plt.ylabel('num of stocks')"
      ],
      "execution_count": 97,
      "outputs": [
        {
          "output_type": "execute_result",
          "data": {
            "text/plain": [
              "Text(0, 0.5, 'num of stocks')"
            ]
          },
          "metadata": {
            "tags": []
          },
          "execution_count": 97
        },
        {
          "output_type": "display_data",
          "data": {
            "image/png": "[encoded data removed]",
            "text/plain": [
              "<Figure size 432x288 with 1 Axes>"
            ]
          },
          "metadata": {
            "tags": [],
            "needs_background": "light"
          }
        }
      ]
    },
    {
      "cell_type": "markdown",
      "metadata": {
        "id": "dPWsX6oSPqtp",
        "colab_type": "text"
      },
      "source": [
        "# Build Prediction Model"
      ]
    },
    {
      "cell_type": "markdown",
      "metadata": {
        "id": "W7Da9-D1PtMj",
        "colab_type": "text"
      },
      "source": [
        "let $T \\in \\{0,1,2,....,225 \\}$ denote the month index, \n",
        "let $ i \\in \\{1,2,....,1069 \\}$ denote the stock index. \n",
        "The response variable is Next_month_excess_return, denoted as $r_{i,T+1}$, of stock i and month T+1. \n",
        "The predictive characteristics are denoted as P-dimensional vector $z_{i,T}$, \n",
        "T is 0,2....225 following \"citi-bank\" paper, which measures the overal time trend for the macromarket.\n",
        "\n",
        "1.  we consider regression problem, which means that the objective function is minimization of MSE. \n",
        "\n",
        "   $r_{i,T+1} = g(z_{i,T}) + \\epsilon_{i,T+1}$\n",
        "   \n",
        "       \n",
        "\n",
        "2.  we consider classification problem, for example a binary classification of whether d_return is positive or not. \n",
        "   \n",
        "   $P(r_{i,T+1} > 0 | z_{i,T}) = g(z_{i,T})$\n",
        "\n",
        "Following the paper(ML), The g function depends neither on i or T. By maintaining the same form over time and across different stocks, the model leverages information from the entire panel and every individual asset. Also g(.) depends on z only through $z_{i,T}$.\n",
        "\n",
        "\n",
        "We split sample into 2 disjoint time periods, 2001-2013 as training, 2014-2020 as testing.\n",
        "\n",
        "Regarding performance evaluation for regression, we use R square $R^2_{oos} = 1 - \\frac{\\sum_{(i,T)\\in test}(r_{i,T+1}-\\hat{r}_{i,T+1})^2}{\\sum_{(i,T)\\in test} r^2_{i,T+1}}$, \n",
        "and F1,accuracy for classification.\n",
        "\n",
        "\n",
        "\n",
        "\n"
      ]
    },
    {
      "cell_type": "code",
      "metadata": {
        "id": "17jY3I2RPsly",
        "colab_type": "code",
        "colab": {
          "base_uri": "https://localhost:8080/",
          "height": 473
        },
        "outputId": "bf3daf1f-d4fd-487f-e0fd-e12dac98ecc8"
      },
      "source": [
        "# How to handle missing data? \n",
        "# I remove all rows contains NA\n",
        "\n",
        "stock_month_dropna = stock_month_r.dropna()\n",
        "stock_month_dropna"
      ],
      "execution_count": 118,
      "outputs": [
        {
          "output_type": "execute_result",
          "data": {
            "text/html": [
              "<div>\n",
              "<style scoped>\n",
              "    .dataframe tbody tr th:only-of-type {\n",
              "        vertical-align: middle;\n",
              "    }\n",
              "\n",
              "    .dataframe tbody tr th {\n",
              "        vertical-align: top;\n",
              "    }\n",
              "\n",
              "    .dataframe thead th {\n",
              "        text-align: right;\n",
              "    }\n",
              "</style>\n",
              "<table border=\"1\" class=\"dataframe\">\n",
              "  <thead>\n",
              "    <tr style=\"text-align: right;\">\n",
              "      <th></th>\n",
              "      <th>year_month</th>\n",
              "      <th>sedol</th>\n",
              "      <th>Month_T</th>\n",
              "      <th>sector</th>\n",
              "      <th>excess_return</th>\n",
              "      <th>excess_mom6m</th>\n",
              "      <th>excess_mom12m</th>\n",
              "      <th>excess_mom36m</th>\n",
              "      <th>maxret1</th>\n",
              "      <th>maxret2</th>\n",
              "      <th>turnover</th>\n",
              "      <th>mktcap</th>\n",
              "      <th>beta</th>\n",
              "      <th>beta_sq</th>\n",
              "      <th>retvol</th>\n",
              "      <th>idiovol</th>\n",
              "      <th>next_month_excess_return</th>\n",
              "    </tr>\n",
              "  </thead>\n",
              "  <tbody>\n",
              "    <tr>\n",
              "      <th>55</th>\n",
              "      <td>2004-08</td>\n",
              "      <td>2002305</td>\n",
              "      <td>35</td>\n",
              "      <td>Health Care</td>\n",
              "      <td>0.914172</td>\n",
              "      <td>0.351626</td>\n",
              "      <td>0.307377</td>\n",
              "      <td>0.223476</td>\n",
              "      <td>0.276639</td>\n",
              "      <td>0.206587</td>\n",
              "      <td>0.049900</td>\n",
              "      <td>0.940120</td>\n",
              "      <td>0.481781</td>\n",
              "      <td>0.481781</td>\n",
              "      <td>0.431174</td>\n",
              "      <td>0.382591</td>\n",
              "      <td>0.388778</td>\n",
              "    </tr>\n",
              "    <tr>\n",
              "      <th>56</th>\n",
              "      <td>2004-09</td>\n",
              "      <td>2002305</td>\n",
              "      <td>36</td>\n",
              "      <td>Health Care</td>\n",
              "      <td>0.390000</td>\n",
              "      <td>0.595142</td>\n",
              "      <td>0.301848</td>\n",
              "      <td>0.216704</td>\n",
              "      <td>0.295688</td>\n",
              "      <td>0.137000</td>\n",
              "      <td>0.058000</td>\n",
              "      <td>0.944000</td>\n",
              "      <td>0.620202</td>\n",
              "      <td>0.620202</td>\n",
              "      <td>0.355556</td>\n",
              "      <td>0.323232</td>\n",
              "      <td>0.564000</td>\n",
              "    </tr>\n",
              "    <tr>\n",
              "      <th>57</th>\n",
              "      <td>2004-10</td>\n",
              "      <td>2002305</td>\n",
              "      <td>37</td>\n",
              "      <td>Health Care</td>\n",
              "      <td>0.562874</td>\n",
              "      <td>0.462626</td>\n",
              "      <td>0.383197</td>\n",
              "      <td>0.213483</td>\n",
              "      <td>0.288934</td>\n",
              "      <td>0.619760</td>\n",
              "      <td>0.071856</td>\n",
              "      <td>0.942116</td>\n",
              "      <td>0.652525</td>\n",
              "      <td>0.652525</td>\n",
              "      <td>0.317172</td>\n",
              "      <td>0.292929</td>\n",
              "      <td>0.100200</td>\n",
              "    </tr>\n",
              "    <tr>\n",
              "      <th>58</th>\n",
              "      <td>2004-11</td>\n",
              "      <td>2002305</td>\n",
              "      <td>38</td>\n",
              "      <td>Health Care</td>\n",
              "      <td>0.100000</td>\n",
              "      <td>0.526316</td>\n",
              "      <td>0.327160</td>\n",
              "      <td>0.238839</td>\n",
              "      <td>0.302469</td>\n",
              "      <td>0.621000</td>\n",
              "      <td>0.090000</td>\n",
              "      <td>0.944000</td>\n",
              "      <td>0.659274</td>\n",
              "      <td>0.659274</td>\n",
              "      <td>0.318548</td>\n",
              "      <td>0.302419</td>\n",
              "      <td>0.897796</td>\n",
              "    </tr>\n",
              "    <tr>\n",
              "      <th>59</th>\n",
              "      <td>2004-12</td>\n",
              "      <td>2002305</td>\n",
              "      <td>39</td>\n",
              "      <td>Health Care</td>\n",
              "      <td>0.899010</td>\n",
              "      <td>0.410101</td>\n",
              "      <td>0.222680</td>\n",
              "      <td>0.237251</td>\n",
              "      <td>0.303093</td>\n",
              "      <td>0.823762</td>\n",
              "      <td>0.087129</td>\n",
              "      <td>0.942574</td>\n",
              "      <td>0.705645</td>\n",
              "      <td>0.705645</td>\n",
              "      <td>0.260081</td>\n",
              "      <td>0.243952</td>\n",
              "      <td>0.364000</td>\n",
              "    </tr>\n",
              "    <tr>\n",
              "      <th>...</th>\n",
              "      <td>...</td>\n",
              "      <td>...</td>\n",
              "      <td>...</td>\n",
              "      <td>...</td>\n",
              "      <td>...</td>\n",
              "      <td>...</td>\n",
              "      <td>...</td>\n",
              "      <td>...</td>\n",
              "      <td>...</td>\n",
              "      <td>...</td>\n",
              "      <td>...</td>\n",
              "      <td>...</td>\n",
              "      <td>...</td>\n",
              "      <td>...</td>\n",
              "      <td>...</td>\n",
              "      <td>...</td>\n",
              "      <td>...</td>\n",
              "    </tr>\n",
              "    <tr>\n",
              "      <th>244</th>\n",
              "      <td>2020-05</td>\n",
              "      <td>BD0Q558</td>\n",
              "      <td>224</td>\n",
              "      <td>Industrials</td>\n",
              "      <td>0.415354</td>\n",
              "      <td>0.651911</td>\n",
              "      <td>0.821803</td>\n",
              "      <td>0.689977</td>\n",
              "      <td>0.178197</td>\n",
              "      <td>0.185039</td>\n",
              "      <td>0.074803</td>\n",
              "      <td>0.643701</td>\n",
              "      <td>0.575453</td>\n",
              "      <td>0.575453</td>\n",
              "      <td>0.404427</td>\n",
              "      <td>0.444668</td>\n",
              "      <td>0.421782</td>\n",
              "    </tr>\n",
              "    <tr>\n",
              "      <th>244</th>\n",
              "      <td>2020-05</td>\n",
              "      <td>2045623</td>\n",
              "      <td>224</td>\n",
              "      <td>Information Technology</td>\n",
              "      <td>0.645669</td>\n",
              "      <td>0.861167</td>\n",
              "      <td>0.964361</td>\n",
              "      <td>0.871795</td>\n",
              "      <td>0.618449</td>\n",
              "      <td>0.177165</td>\n",
              "      <td>0.279528</td>\n",
              "      <td>0.561024</td>\n",
              "      <td>0.764588</td>\n",
              "      <td>0.764588</td>\n",
              "      <td>0.148893</td>\n",
              "      <td>0.265594</td>\n",
              "      <td>0.194059</td>\n",
              "    </tr>\n",
              "    <tr>\n",
              "      <th>244</th>\n",
              "      <td>2020-05</td>\n",
              "      <td>2556868</td>\n",
              "      <td>224</td>\n",
              "      <td>Financials</td>\n",
              "      <td>0.937008</td>\n",
              "      <td>0.148893</td>\n",
              "      <td>0.167715</td>\n",
              "      <td>0.356643</td>\n",
              "      <td>0.572327</td>\n",
              "      <td>0.568898</td>\n",
              "      <td>0.728346</td>\n",
              "      <td>0.143701</td>\n",
              "      <td>0.539235</td>\n",
              "      <td>0.539235</td>\n",
              "      <td>0.444668</td>\n",
              "      <td>0.492958</td>\n",
              "      <td>0.861386</td>\n",
              "    </tr>\n",
              "    <tr>\n",
              "      <th>244</th>\n",
              "      <td>2020-05</td>\n",
              "      <td>2679204</td>\n",
              "      <td>224</td>\n",
              "      <td>Health Care</td>\n",
              "      <td>0.948819</td>\n",
              "      <td>0.374245</td>\n",
              "      <td>0.236897</td>\n",
              "      <td>0.983683</td>\n",
              "      <td>0.958071</td>\n",
              "      <td>0.911417</td>\n",
              "      <td>0.858268</td>\n",
              "      <td>0.452756</td>\n",
              "      <td>0.231388</td>\n",
              "      <td>0.231388</td>\n",
              "      <td>0.776660</td>\n",
              "      <td>0.806841</td>\n",
              "      <td>0.819802</td>\n",
              "    </tr>\n",
              "    <tr>\n",
              "      <th>244</th>\n",
              "      <td>2020-05</td>\n",
              "      <td>BYVMW06</td>\n",
              "      <td>224</td>\n",
              "      <td>Consumer Discretionary</td>\n",
              "      <td>0.606299</td>\n",
              "      <td>0.257545</td>\n",
              "      <td>0.360587</td>\n",
              "      <td>0.799534</td>\n",
              "      <td>0.109015</td>\n",
              "      <td>0.539370</td>\n",
              "      <td>0.850394</td>\n",
              "      <td>0.511811</td>\n",
              "      <td>0.303823</td>\n",
              "      <td>0.303823</td>\n",
              "      <td>0.674044</td>\n",
              "      <td>0.613682</td>\n",
              "      <td>0.483168</td>\n",
              "    </tr>\n",
              "  </tbody>\n",
              "</table>\n",
              "<p>79691 rows × 17 columns</p>\n",
              "</div>"
            ],
            "text/plain": [
              "    year_month    sedol  Month_T  ...    retvol   idiovol  next_month_excess_return\n",
              "55     2004-08  2002305       35  ...  0.431174  0.382591                  0.388778\n",
              "56     2004-09  2002305       36  ...  0.355556  0.323232                  0.564000\n",
              "57     2004-10  2002305       37  ...  0.317172  0.292929                  0.100200\n",
              "58     2004-11  2002305       38  ...  0.318548  0.302419                  0.897796\n",
              "59     2004-12  2002305       39  ...  0.260081  0.243952                  0.364000\n",
              "..         ...      ...      ...  ...       ...       ...                       ...\n",
              "244    2020-05  BD0Q558      224  ...  0.404427  0.444668                  0.421782\n",
              "244    2020-05  2045623      224  ...  0.148893  0.265594                  0.194059\n",
              "244    2020-05  2556868      224  ...  0.444668  0.492958                  0.861386\n",
              "244    2020-05  2679204      224  ...  0.776660  0.806841                  0.819802\n",
              "244    2020-05  BYVMW06      224  ...  0.674044  0.613682                  0.483168\n",
              "\n",
              "[79691 rows x 17 columns]"
            ]
          },
          "metadata": {
            "tags": []
          },
          "execution_count": 118
        }
      ]
    },
    {
      "cell_type": "code",
      "metadata": {
        "id": "LPNUtihNR2B6",
        "colab_type": "code",
        "colab": {
          "base_uri": "https://localhost:8080/",
          "height": 34
        },
        "outputId": "b19926df-6094-425f-92f5-58bc7409c8dc"
      },
      "source": [
        "# number of stocks left in training\n",
        "len(stock_month_dropna.sedol.unique())"
      ],
      "execution_count": 119,
      "outputs": [
        {
          "output_type": "execute_result",
          "data": {
            "text/plain": [
              "826"
            ]
          },
          "metadata": {
            "tags": []
          },
          "execution_count": 119
        }
      ]
    },
    {
      "cell_type": "code",
      "metadata": {
        "id": "e5CzDAFpR7W1",
        "colab_type": "code",
        "colab": {}
      },
      "source": [
        "# split data, remember after remove NAs, T starts from 35 to 225. \n",
        "# training 36: 180,   testing 180:225\n",
        "\n",
        "features = ['Month_T', 'excess_return', 'excess_mom6m', 'excess_mom12m', 'excess_mom36m','maxret1', 'maxret2', \n",
        "        'turnover', 'mktcap', 'beta', 'beta_sq', 'retvol', 'idiovol']\n",
        "\n",
        "\n",
        "X_train = stock_month_dropna.loc[ stock_month_dropna.Month_T.isin(np.arange(0,180)) , features] ## total 79691,   61197 in training\n",
        "Y_train = stock_month_dropna.loc[ stock_month_dropna.Month_T.isin(np.arange(0,180)) , 'next_month_excess_return']\n",
        "\n",
        "X_test = stock_month_dropna.loc[ stock_month_dropna.Month_T.isin(np.arange(180,226)) , features] # \n",
        "Y_test = stock_month_dropna.loc[ stock_month_dropna.Month_T.isin(np.arange(180,226)) , 'next_month_excess_return'] # 18494 in test\n"
      ],
      "execution_count": 141,
      "outputs": []
    },
    {
      "cell_type": "code",
      "metadata": {
        "id": "nX_cAkzAShTm",
        "colab_type": "code",
        "colab": {
          "base_uri": "https://localhost:8080/",
          "height": 34
        },
        "outputId": "cdb3cd06-7eb6-4949-b3e0-68f4a3eb7e5c"
      },
      "source": [
        "# build model, random forest\n",
        "regr = RandomForestRegressor(max_depth=3,random_state=0)\n",
        "regr.fit(X_train, Y_train)\n",
        "print(regr.score(X_test,Y_test)) # default R2 \n",
        "# r2_score(Y_test.values, regr.predict(X_test))"
      ],
      "execution_count": 142,
      "outputs": [
        {
          "output_type": "stream",
          "text": [
            "-0.0006124768198150221\n"
          ],
          "name": "stdout"
        }
      ]
    },
    {
      "cell_type": "code",
      "metadata": {
        "id": "x9R1GJeBZU7D",
        "colab_type": "code",
        "colab": {
          "base_uri": "https://localhost:8080/",
          "height": 34
        },
        "outputId": "683fe7d6-fb8c-4fdf-e880-e94e542c79da"
      },
      "source": [
        "# try xgboots\n",
        "regr2 = xgb.train({\"learning_rate\": 0.01}, xgb.DMatrix(X_train,label = Y_train),10)\n",
        "\n",
        "r2_score(Y_test.values, regr2.predict(xgb.DMatrix(X_test,label = Y_test)) )"
      ],
      "execution_count": 147,
      "outputs": [
        {
          "output_type": "execute_result",
          "data": {
            "text/plain": [
              "5.193058083663438e-06"
            ]
          },
          "metadata": {
            "tags": []
          },
          "execution_count": 147
        }
      ]
    },
    {
      "cell_type": "markdown",
      "metadata": {
        "id": "3xwGUaNATHst",
        "colab_type": "text"
      },
      "source": [
        "# SHAP"
      ]
    },
    {
      "cell_type": "markdown",
      "metadata": {
        "id": "VVzhs45WjQog",
        "colab_type": "text"
      },
      "source": [
        "1. Turn_over is positively correlated with next_month_excess_return. \n",
        "2. Mom1m is negatively correlated.\n",
        "3. excess_mom6m is positively. ...\n"
      ]
    },
    {
      "cell_type": "code",
      "metadata": {
        "id": "1sWUMpCVTITA",
        "colab_type": "code",
        "colab": {
          "base_uri": "https://localhost:8080/",
          "height": 450
        },
        "outputId": "cbf99fe6-dc7f-4965-d65d-0be69362bc7a"
      },
      "source": [
        "# Shap for random forest\n",
        "explainer = shap.TreeExplainer(regr)\n",
        "shap_values = explainer.shap_values(X_train)\n",
        "\n",
        "shap.summary_plot(shap_values, X_train)"
      ],
      "execution_count": 148,
      "outputs": [
        {
          "output_type": "stream",
          "text": [
            "Setting feature_perturbation = \"tree_path_dependent\" because no background data was given.\n"
          ],
          "name": "stderr"
        },
        {
          "output_type": "display_data",
          "data": {
            "image/png": "[encoded data removed]",
            "text/plain": [
              "<Figure size 576x482.4 with 2 Axes>"
            ]
          },
          "metadata": {
            "tags": [],
            "needs_background": "light"
          }
        }
      ]
    },
    {
      "cell_type": "code",
      "metadata": {
        "id": "AI0i-B6GZxCb",
        "colab_type": "code",
        "colab": {
          "base_uri": "https://localhost:8080/",
          "height": 450
        },
        "outputId": "50083aa6-e3d8-42b8-9209-f4d1ccdbd5a9"
      },
      "source": [
        "# Shap for xgboost\n",
        "explainer2 = shap.TreeExplainer(regr2)\n",
        "shap_values2 = explainer2.shap_values(X_train.values)\n",
        "\n",
        "shap.summary_plot(shap_values2, X_train)"
      ],
      "execution_count": 149,
      "outputs": [
        {
          "output_type": "stream",
          "text": [
            "Setting feature_perturbation = \"tree_path_dependent\" because no background data was given.\n"
          ],
          "name": "stderr"
        },
        {
          "output_type": "display_data",
          "data": {
            "image/png": "[encoded data removed]",
            "text/plain": [
              "<Figure size 576x482.4 with 2 Axes>"
            ]
          },
          "metadata": {
            "tags": [],
            "needs_background": "light"
          }
        }
      ]
    }
  ]
}