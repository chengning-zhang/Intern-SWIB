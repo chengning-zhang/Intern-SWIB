{
  "nbformat": 4,
  "nbformat_minor": 0,
  "metadata": {
    "colab": {
      "name": "Week1_build_signals.ipynb",
      "provenance": [],
      "collapsed_sections": [
        "WSd1WQ78KokV",
        "eEBKI8V4fcp1",
        "8AsdmIcOUByW"
      ],
      "mount_file_id": "1nwvC8hr6Xkjhk7-c6Vjc05zRLcwaB3JH",
      "authorship_tag": "ABX9TyMLF+MTmljBNyyXkU4njO+F",
      "include_colab_link": true
    },
    "kernelspec": {
      "name": "python3",
      "display_name": "Python 3"
    }
  },
  "cells": [
    {
      "cell_type": "markdown",
      "metadata": {
        "id": "view-in-github",
        "colab_type": "text"
      },
      "source": [
        "<a href=\"https://colab.research.google.com/github/chengning-zhang/Intern-SWIB/blob/master/Week1_build_signals.ipynb\" target=\"_parent\"><img src=\"https://colab.research.google.com/assets/colab-badge.svg\" alt=\"Open In Colab\"/></a>"
      ]
    },
    {
      "cell_type": "markdown",
      "metadata": {
        "id": "WSd1WQ78KokV",
        "colab_type": "text"
      },
      "source": [
        "# Load Data"
      ]
    },
    {
      "cell_type": "code",
      "metadata": {
        "id": "2_n35Z1Pqj1z",
        "colab_type": "code",
        "colab": {}
      },
      "source": [
        "!pip install shap"
      ],
      "execution_count": 0,
      "outputs": []
    },
    {
      "cell_type": "code",
      "metadata": {
        "id": "DyA0l_awDHlo",
        "colab_type": "code",
        "colab": {}
      },
      "source": [
        "import pandas as pd\n",
        "from patsy import dmatrix\n",
        "import numpy as np\n",
        "from sklearn import tree\n",
        "from sklearn.ensemble import RandomForestRegressor\n",
        "from sklearn.ensemble import RandomForestClassifier\n",
        "from sklearn.linear_model import LogisticRegression\n",
        "import shap"
      ],
      "execution_count": 0,
      "outputs": []
    },
    {
      "cell_type": "code",
      "metadata": {
        "id": "N-HrT9KTIDBm",
        "colab_type": "code",
        "colab": {}
      },
      "source": [
        "def load_basic_data(fileName):\n",
        "\n",
        "        tempDF = pd.read_parquet(fileName)\n",
        "        \n",
        "        tempDF['date'] = pd.to_datetime(tempDF['date'])\n",
        "                    \n",
        "        returnDF = tempDF.pivot(index='date', columns='sedol', values='d_return')\n",
        "\n",
        "        returnDF.sort_index()\n",
        "\n",
        "        returnDF.index = pd.to_datetime(returnDF.index)\n",
        "\n",
        "        priceDF = tempDF.pivot(index='date', columns='sedol', values='LAST_PRICE')\n",
        "\n",
        "        priceDF.sort_index()\n",
        "\n",
        "        priceDF.index = pd.to_datetime(priceDF.index)  \n",
        "\n",
        "\n",
        "        sectorDF = tempDF.pivot(index='date', columns='sedol', values='sector')\n",
        "\n",
        "        sectorDF.sort_index()\n",
        "\n",
        "        sectorDF.index = pd.to_datetime(sectorDF.index)  \n",
        "\n",
        "\n",
        "        dollarVolumeDF = tempDF.pivot(index='date', columns='sedol', values='dollarVolume')\n",
        "\n",
        "        dollarVolumeDF.sort_index()\n",
        "\n",
        "        dollarVolumeDF.index = pd.to_datetime(dollarVolumeDF.index)\n",
        "\n",
        "        return tempDF, returnDF, priceDF, sectorDF,dollarVolumeDF\n",
        "\n",
        "tempDF, returnDF, priceDF, sectorDF,dollarVolumeDF = load_basic_data(\"/content/drive/My Drive/SWIB Quant Intern/SP500.pq\")"
      ],
      "execution_count": 0,
      "outputs": []
    },
    {
      "cell_type": "code",
      "metadata": {
        "id": "ciLk1s3KKv58",
        "colab_type": "code",
        "colab": {
          "base_uri": "https://localhost:8080/",
          "height": 419
        },
        "outputId": "cddf63d1-c1df-49ab-c499-c932f94ac839"
      },
      "source": [
        "tempDF[ tempDF['sedol'] == '2001692']"
      ],
      "execution_count": 28,
      "outputs": [
        {
          "output_type": "execute_result",
          "data": {
            "text/html": [
              "<div>\n",
              "<style scoped>\n",
              "    .dataframe tbody tr th:only-of-type {\n",
              "        vertical-align: middle;\n",
              "    }\n",
              "\n",
              "    .dataframe tbody tr th {\n",
              "        vertical-align: top;\n",
              "    }\n",
              "\n",
              "    .dataframe thead th {\n",
              "        text-align: right;\n",
              "    }\n",
              "</style>\n",
              "<table border=\"1\" class=\"dataframe\">\n",
              "  <thead>\n",
              "    <tr style=\"text-align: right;\">\n",
              "      <th></th>\n",
              "      <th>date</th>\n",
              "      <th>sedol</th>\n",
              "      <th>sector</th>\n",
              "      <th>mktcap</th>\n",
              "      <th>d_return</th>\n",
              "      <th>LAST_PRICE</th>\n",
              "      <th>VOLUME_AVG_30D</th>\n",
              "      <th>dollarVolume</th>\n",
              "    </tr>\n",
              "  </thead>\n",
              "  <tbody>\n",
              "    <tr>\n",
              "      <th>0</th>\n",
              "      <td>2001-09-17</td>\n",
              "      <td>2001692</td>\n",
              "      <td>Industrials</td>\n",
              "      <td>2779.3441</td>\n",
              "      <td>-0.393939</td>\n",
              "      <td>18.00</td>\n",
              "      <td>1331822.8</td>\n",
              "      <td>2.397281e+07</td>\n",
              "    </tr>\n",
              "    <tr>\n",
              "      <th>500</th>\n",
              "      <td>2001-09-18</td>\n",
              "      <td>2001692</td>\n",
              "      <td>Industrials</td>\n",
              "      <td>3088.1601</td>\n",
              "      <td>0.111111</td>\n",
              "      <td>20.00</td>\n",
              "      <td>1608904.4</td>\n",
              "      <td>3.217809e+07</td>\n",
              "    </tr>\n",
              "    <tr>\n",
              "      <th>999</th>\n",
              "      <td>2001-09-19</td>\n",
              "      <td>2001692</td>\n",
              "      <td>Industrials</td>\n",
              "      <td>3088.1601</td>\n",
              "      <td>0.000000</td>\n",
              "      <td>20.00</td>\n",
              "      <td>1826543.5</td>\n",
              "      <td>3.653087e+07</td>\n",
              "    </tr>\n",
              "    <tr>\n",
              "      <th>1498</th>\n",
              "      <td>2001-09-20</td>\n",
              "      <td>2001692</td>\n",
              "      <td>Industrials</td>\n",
              "      <td>2848.8278</td>\n",
              "      <td>-0.077500</td>\n",
              "      <td>18.45</td>\n",
              "      <td>1931604.4</td>\n",
              "      <td>3.563810e+07</td>\n",
              "    </tr>\n",
              "    <tr>\n",
              "      <th>1997</th>\n",
              "      <td>2001-09-21</td>\n",
              "      <td>2001692</td>\n",
              "      <td>Industrials</td>\n",
              "      <td>2763.9032</td>\n",
              "      <td>-0.029810</td>\n",
              "      <td>17.90</td>\n",
              "      <td>2140913.0</td>\n",
              "      <td>3.832234e+07</td>\n",
              "    </tr>\n",
              "    <tr>\n",
              "      <th>...</th>\n",
              "      <td>...</td>\n",
              "      <td>...</td>\n",
              "      <td>...</td>\n",
              "      <td>...</td>\n",
              "      <td>...</td>\n",
              "      <td>...</td>\n",
              "      <td>...</td>\n",
              "      <td>...</td>\n",
              "    </tr>\n",
              "    <tr>\n",
              "      <th>190000</th>\n",
              "      <td>2003-03-07</td>\n",
              "      <td>2001692</td>\n",
              "      <td>Industrials</td>\n",
              "      <td>438.3400</td>\n",
              "      <td>0.097700</td>\n",
              "      <td>2.81</td>\n",
              "      <td>2924500.0</td>\n",
              "      <td>8.217845e+06</td>\n",
              "    </tr>\n",
              "    <tr>\n",
              "      <th>190500</th>\n",
              "      <td>2003-03-10</td>\n",
              "      <td>2001692</td>\n",
              "      <td>Industrials</td>\n",
              "      <td>375.9400</td>\n",
              "      <td>-0.142300</td>\n",
              "      <td>2.41</td>\n",
              "      <td>2697686.5</td>\n",
              "      <td>6.501424e+06</td>\n",
              "    </tr>\n",
              "    <tr>\n",
              "      <th>191000</th>\n",
              "      <td>2003-03-11</td>\n",
              "      <td>2001692</td>\n",
              "      <td>Industrials</td>\n",
              "      <td>248.0300</td>\n",
              "      <td>-0.340200</td>\n",
              "      <td>1.59</td>\n",
              "      <td>3179443.4</td>\n",
              "      <td>5.055315e+06</td>\n",
              "    </tr>\n",
              "    <tr>\n",
              "      <th>191500</th>\n",
              "      <td>2003-03-12</td>\n",
              "      <td>2001692</td>\n",
              "      <td>Industrials</td>\n",
              "      <td>219.9500</td>\n",
              "      <td>-0.113200</td>\n",
              "      <td>1.41</td>\n",
              "      <td>3717969.7</td>\n",
              "      <td>5.242337e+06</td>\n",
              "    </tr>\n",
              "    <tr>\n",
              "      <th>192000</th>\n",
              "      <td>2003-03-13</td>\n",
              "      <td>2001692</td>\n",
              "      <td>Industrials</td>\n",
              "      <td>233.9900</td>\n",
              "      <td>0.063800</td>\n",
              "      <td>1.50</td>\n",
              "      <td>4834756.3</td>\n",
              "      <td>7.252134e+06</td>\n",
              "    </tr>\n",
              "  </tbody>\n",
              "</table>\n",
              "<p>385 rows × 8 columns</p>\n",
              "</div>"
            ],
            "text/plain": [
              "             date    sedol  ... VOLUME_AVG_30D  dollarVolume\n",
              "0      2001-09-17  2001692  ...      1331822.8  2.397281e+07\n",
              "500    2001-09-18  2001692  ...      1608904.4  3.217809e+07\n",
              "999    2001-09-19  2001692  ...      1826543.5  3.653087e+07\n",
              "1498   2001-09-20  2001692  ...      1931604.4  3.563810e+07\n",
              "1997   2001-09-21  2001692  ...      2140913.0  3.832234e+07\n",
              "...           ...      ...  ...            ...           ...\n",
              "190000 2003-03-07  2001692  ...      2924500.0  8.217845e+06\n",
              "190500 2003-03-10  2001692  ...      2697686.5  6.501424e+06\n",
              "191000 2003-03-11  2001692  ...      3179443.4  5.055315e+06\n",
              "191500 2003-03-12  2001692  ...      3717969.7  5.242337e+06\n",
              "192000 2003-03-13  2001692  ...      4834756.3  7.252134e+06\n",
              "\n",
              "[385 rows x 8 columns]"
            ]
          },
          "metadata": {
            "tags": []
          },
          "execution_count": 28
        }
      ]
    },
    {
      "cell_type": "markdown",
      "metadata": {
        "id": "QFWfZJ6pMG7w",
        "colab_type": "text"
      },
      "source": [
        "dollarvolumn from price* volumn"
      ]
    },
    {
      "cell_type": "code",
      "metadata": {
        "id": "o_P_IJ_8_vRD",
        "colab_type": "code",
        "outputId": "77d2933d-9c02-4a86-85ac-87a91a065d20",
        "colab": {
          "base_uri": "https://localhost:8080/",
          "height": 34
        }
      },
      "source": [
        "1608904.4* 20"
      ],
      "execution_count": 0,
      "outputs": [
        {
          "output_type": "execute_result",
          "data": {
            "text/plain": [
              "32178088.0"
            ]
          },
          "metadata": {
            "tags": []
          },
          "execution_count": 6
        }
      ]
    },
    {
      "cell_type": "markdown",
      "metadata": {
        "id": "SDHrz614JVXA",
        "colab_type": "text"
      },
      "source": [
        "d_return is calculated from Last_price"
      ]
    },
    {
      "cell_type": "code",
      "metadata": {
        "id": "n9C8lqBlJBGd",
        "colab_type": "code",
        "outputId": "14b24ff0-2436-4e3d-c13e-760082987aef",
        "colab": {
          "base_uri": "https://localhost:8080/",
          "height": 34
        }
      },
      "source": [
        "# 0.1111\n",
        "# (20 -18) /18\n",
        "\n",
        "# -0.0775\n",
        "(18.45 -20)/20"
      ],
      "execution_count": 0,
      "outputs": [
        {
          "output_type": "execute_result",
          "data": {
            "text/plain": [
              "-0.07750000000000004"
            ]
          },
          "metadata": {
            "tags": []
          },
          "execution_count": 12
        }
      ]
    },
    {
      "cell_type": "markdown",
      "metadata": {
        "id": "eEBKI8V4fcp1",
        "colab_type": "text"
      },
      "source": [
        "# Build Signals\n",
        "\n"
      ]
    },
    {
      "cell_type": "markdown",
      "metadata": {
        "id": "5rT6iGh2DP-V",
        "colab_type": "text"
      },
      "source": [
        " Notes from Roger:\n",
        "1. build those signals based on price, return, volume, volatility, momentum\n",
        "\n",
        "2. Use monthly data to remove noise.\n",
        "\n"
      ]
    },
    {
      "cell_type": "markdown",
      "metadata": {
        "id": "3mi0ErEEMQzK",
        "colab_type": "text"
      },
      "source": [
        "For each stock_i where $i \\in \\{ 1,...1069\\}$. we convert daily data to monthly data in order to remove noise. We group daily data by year_month. Suppose month T is the current month.\n",
        "\n",
        "1 Volumn, The original daily data has VOLUME_AVG_30D, I use the VOLUME_AVG_30D_T.iloc[-1] of that month to represent that month's volume.\n",
        "\n",
        "2 Volatility, use std as measure of volatility: std(Price_T).\n",
        "Could do Beta later. \n",
        "\n",
        "3 mom1m, 1 month cumulative return, (Price_T.iloc[-1] - Price_T.iloc[0])/ Price_T.iloc[0].\n",
        "\n",
        "4 momentum,  Price_T.iloc[-1] - Price_T.iloc[0], that month's last price - that month's first price\n",
        "\n",
        "5 log makcap, use that month's average mktcap then take nature log: \n",
        "log(mean(mktcap_T))\n",
        "\n",
        "6 # Price, use last day of that month's price: Price_T.iloc[-1]. \n",
        "since it recovers dollarvolume. Price's scale vary across different stocks, should be standardized.\n",
        "\n",
        "7 Dollarvolume,  dollarVolume_T.iloc[-1]. \n",
        "\n",
        "8 Year_month T. 2001-09: T = 1, .... 2020-06: T = 226\n",
        "\n",
        "9 Y, next month return: (Price_T+1.iloc[-1] - Price_T.iloc[-1]) / Price_T.iloc[-1]\n",
        "\n",
        "\n"
      ]
    },
    {
      "cell_type": "code",
      "metadata": {
        "id": "KNKAqOxLWUpd",
        "colab_type": "code",
        "colab": {}
      },
      "source": [
        "# Map 2001-09 - 2020-06 to T 0 - ?\n",
        "T = pd.to_datetime(tempDF['date']).dt.to_period('M').unique()\n",
        "T = dict(zip (T,np.arange(len(T))))"
      ],
      "execution_count": 0,
      "outputs": []
    },
    {
      "cell_type": "code",
      "metadata": {
        "id": "9uvUwC98Mgdg",
        "colab_type": "code",
        "colab": {}
      },
      "source": [
        "# stock id, total of 1069 stocks \n",
        "\n",
        "stock_id = list(tempDF.sedol.unique()) \n",
        "\n",
        "stock_month = pd.DataFrame({'year_month':[],\t'sedol':[],\t'sector':[],\t'volume':[],\t'volatility':[],\t'mom1m':[],\t'momentum':[],\t'log_mktcap':[],\t\n",
        "                            'LAST_PRICE':[],\t'dollarVolume':[],\t'next_month_return':[]})\n",
        "\n",
        "# for stock i\n",
        "for i in np.arange(len(stock_id)):\n",
        "    stock_i = tempDF[tempDF['sedol'] == stock_id[i]]\n",
        "    stock_i_sector = stock_i['sector'].unique()\n",
        "    #if len(stock_i_sector) > 1:\n",
        "    print(i)\n",
        "    # for stock i, the time period\n",
        "    stock_i['year_month'] = pd.to_datetime(stock_i['date']).dt.to_period('M')\n",
        "    time_i = list(stock_i['year_month'].unique())\n",
        "    # make monthly signals \n",
        "    # 1 volumn, 2 volatility , 3 momentum ,4 mom1m 5 log makcap, 6 price 7 dollarvolume\n",
        "\n",
        "    # intitial new df\n",
        "    stock_i_month = pd.DataFrame(data = {\"year_month\":time_i})\n",
        "\n",
        "    # stock id and sector\n",
        "    stock_i_month['sedol'] = stock_id[i]; stock_i_month['sector'] = stock_i_sector[-1]\n",
        "\n",
        "    # Since it is VOLUME_AVG_30D, I use the .iloc[-1] of that month to represent that month's volume.\n",
        "    stock_i_month['volume'] = [stock_i[stock_i['year_month'] == str(time)]['VOLUME_AVG_30D'].iloc[-1] for time in time_i]\n",
        "    # use std as measure of volatility. Could do Beta later\n",
        "    stock_i_month['volatility'] = [np.std( np.array(stock_i[stock_i['year_month'] == str(time)]['LAST_PRICE']) ) for time in time_i]\n",
        "    # mom1m, 1 month cumalative return, (.iloc[-1] - .iloc[0])/ .iloc[0]\n",
        "    stock_i_month['mom1m'] = [( stock_i[stock_i['year_month'] == str(time)]['LAST_PRICE'].iloc[-1] - \n",
        "      stock_i[stock_i['year_month'] == str(time)]['LAST_PRICE'].iloc[0] ) /\n",
        "      stock_i[stock_i['year_month'] == str(time)]['LAST_PRICE'].iloc[0]\n",
        "    for time in time_i]\n",
        "    # momentum (.iloc[-1] - .iloc[0]), that month's last price - that month's first price\n",
        "    stock_i_month['momentum'] = [stock_i[stock_i['year_month'] == str(time)]['LAST_PRICE'].iloc[-1] - \n",
        "      stock_i[stock_i['year_month'] == str(time)]['LAST_PRICE'].iloc[0] for time in time_i]\n",
        "    # log makcap, use that month's average mktcap then take nature log\n",
        "    stock_i_month['log_mktcap'] = [np.log(np.mean( np.array(stock_i[stock_i['year_month'] == str(time)]['mktcap']) ) ) for time in time_i]\n",
        "    # price, use last day of that month's price, since it recovers dollarvolumn\n",
        "    stock_i_month['LAST_PRICE'] = [stock_i[stock_i['year_month'] == str(time)]['LAST_PRICE'].iloc[-1]  for time in time_i]\n",
        "    # dollarvolume = price * volumn\n",
        "    stock_i_month['dollarVolume'] = [stock_i[stock_i['year_month'] == str(time)]['dollarVolume'].iloc[-1]  for time in time_i]\n",
        "\n",
        "\n",
        "    # Y, next month return(t+1), use (t+1.iloc[-1] - t.iloc[-1]) / t.iloc[-1]\n",
        "    stock_i_month['next_month_return'] = np.concatenate( ( [ (stock_i[stock_i['year_month'] == str(time_i[t+1])]['LAST_PRICE'].iloc[-1] -  \n",
        "                                          stock_i[stock_i['year_month'] == str(time_i[t])]['LAST_PRICE'].iloc[-1] )/\n",
        "                                          stock_i[stock_i['year_month'] == str(time_i[t])]['LAST_PRICE'].iloc[-1]\n",
        "                                          for t in np.arange(len(time_i)-1)] , [np.nan]) )\n",
        "    \n",
        "    # How many days available in that month\n",
        "    stock_i_month['number_of_days'] = [len( stock_i[stock_i['year_month'] == str(time)].index  )  for time in time_i]\n",
        "\n",
        "    # merge stock_i to previous DF\n",
        "    stock_month = pd.concat([stock_month,stock_i_month])\n",
        "\n",
        "    \n",
        "\n",
        "\n",
        "# map T: 2001-06: 0,    2020-06 :226\n",
        "stock_month['Month_T'] = stock_month['year_month'].map(T)"
      ],
      "execution_count": 0,
      "outputs": []
    },
    {
      "cell_type": "code",
      "metadata": {
        "id": "G2v9GqRkOfqk",
        "colab_type": "code",
        "outputId": "c6946929-ffb0-4d7f-f991-56d68210527d",
        "colab": {
          "base_uri": "https://localhost:8080/",
          "height": 142
        }
      },
      "source": [
        "stock_month[stock_month['sedol'] == stock_id[1060]]"
      ],
      "execution_count": 63,
      "outputs": [
        {
          "output_type": "execute_result",
          "data": {
            "text/html": [
              "<div>\n",
              "<style scoped>\n",
              "    .dataframe tbody tr th:only-of-type {\n",
              "        vertical-align: middle;\n",
              "    }\n",
              "\n",
              "    .dataframe tbody tr th {\n",
              "        vertical-align: top;\n",
              "    }\n",
              "\n",
              "    .dataframe thead th {\n",
              "        text-align: right;\n",
              "    }\n",
              "</style>\n",
              "<table border=\"1\" class=\"dataframe\">\n",
              "  <thead>\n",
              "    <tr style=\"text-align: right;\">\n",
              "      <th></th>\n",
              "      <th>year_month</th>\n",
              "      <th>sedol</th>\n",
              "      <th>sector</th>\n",
              "      <th>volume</th>\n",
              "      <th>volatility</th>\n",
              "      <th>mom1m</th>\n",
              "      <th>momentum</th>\n",
              "      <th>log_mktcap</th>\n",
              "      <th>LAST_PRICE</th>\n",
              "      <th>dollarVolume</th>\n",
              "      <th>next_month_return</th>\n",
              "      <th>number_of_days</th>\n",
              "      <th>Month_T</th>\n",
              "    </tr>\n",
              "  </thead>\n",
              "  <tbody>\n",
              "    <tr>\n",
              "      <th>0</th>\n",
              "      <td>2020-04</td>\n",
              "      <td>BKLJ8V2</td>\n",
              "      <td>Industrials</td>\n",
              "      <td>4766823.7</td>\n",
              "      <td>0.941365</td>\n",
              "      <td>-0.009848</td>\n",
              "      <td>-0.13</td>\n",
              "      <td>8.566978</td>\n",
              "      <td>13.07</td>\n",
              "      <td>6.230239e+07</td>\n",
              "      <td>0.000765</td>\n",
              "      <td>21.0</td>\n",
              "      <td>223</td>\n",
              "    </tr>\n",
              "    <tr>\n",
              "      <th>1</th>\n",
              "      <td>2020-05</td>\n",
              "      <td>BKLJ8V2</td>\n",
              "      <td>Industrials</td>\n",
              "      <td>2928643.6</td>\n",
              "      <td>0.839318</td>\n",
              "      <td>0.043062</td>\n",
              "      <td>0.54</td>\n",
              "      <td>8.577716</td>\n",
              "      <td>13.08</td>\n",
              "      <td>3.830666e+07</td>\n",
              "      <td>0.311927</td>\n",
              "      <td>20.0</td>\n",
              "      <td>224</td>\n",
              "    </tr>\n",
              "    <tr>\n",
              "      <th>2</th>\n",
              "      <td>2020-06</td>\n",
              "      <td>BKLJ8V2</td>\n",
              "      <td>Industrials</td>\n",
              "      <td>2939142.8</td>\n",
              "      <td>1.304613</td>\n",
              "      <td>0.279642</td>\n",
              "      <td>3.75</td>\n",
              "      <td>8.789390</td>\n",
              "      <td>17.16</td>\n",
              "      <td>5.043569e+07</td>\n",
              "      <td>NaN</td>\n",
              "      <td>5.0</td>\n",
              "      <td>225</td>\n",
              "    </tr>\n",
              "  </tbody>\n",
              "</table>\n",
              "</div>"
            ],
            "text/plain": [
              "  year_month    sedol       sector  ...  next_month_return  number_of_days  Month_T\n",
              "0    2020-04  BKLJ8V2  Industrials  ...           0.000765            21.0      223\n",
              "1    2020-05  BKLJ8V2  Industrials  ...           0.311927            20.0      224\n",
              "2    2020-06  BKLJ8V2  Industrials  ...                NaN             5.0      225\n",
              "\n",
              "[3 rows x 13 columns]"
            ]
          },
          "metadata": {
            "tags": []
          },
          "execution_count": 63
        }
      ]
    },
    {
      "cell_type": "code",
      "metadata": {
        "id": "97R5aqLpiY-9",
        "colab_type": "code",
        "colab": {}
      },
      "source": [
        "tempDF[tempDF['sedol'] == stock_id[1060]]"
      ],
      "execution_count": 0,
      "outputs": []
    },
    {
      "cell_type": "markdown",
      "metadata": {
        "id": "2J0b5NLubaup",
        "colab_type": "text"
      },
      "source": [
        "# Build Prediction Model"
      ]
    },
    {
      "cell_type": "markdown",
      "metadata": {
        "id": "mQHcfpwpZm3D",
        "colab_type": "text"
      },
      "source": [
        "let $T \\in \\{1,2,....,226 \\}$ denote the month index, \n",
        "let $ i \\in \\{1,2,....,1069 \\}$ denote the stock index. \n",
        "The response variable is $\\textbf{Next_month_return}$, denoted as $r_{i,T+1}$, of stock i and month T+1. \n",
        "The predictive characteristics are denoted as P-dimensional vector $z_{i,T}$, which includes \n",
        "$\\{T,\tsector,\tlog(mktcap),\tVolume,\tVolatility,\tdollarVolume, mom1m, momentum\\}$. Price and dollarVolume should be standardized later....\n",
        "T is 1,2....226 following \"citi-bank\" paper, which measures the overal time trend for the macromarket.\n",
        "\n",
        "1.  we consider regression problem, which means that the objective function is minimization of MSE. \n",
        "\n",
        "   $r_{i,T+1} = g(z_{i,T}) + \\epsilon_{i,T+1}$\n",
        "   \n",
        "       \n",
        "\n",
        "2.  we consider classification problem, for example a binary classification of whether d_return is positive or not. \n",
        "   \n",
        "   $P(r_{i,T+1} > 0 | z_{i,T}) = g(z_{i,T})$\n",
        "\n",
        "Following the paper(ML), The g function depends neither on i or T. By maintaining the same form over time and across different stocks, the model leverages information from the entire panel and every individual asset. Also g(.) depends on z only through $z_{i,T}$.\n",
        "\n",
        "\n",
        "We split sample into 2 disjoint time periods, 2001-2013 as training, 2014-2020 as testing.\n",
        "\n",
        "Regarding performance evaluation for regression, we use R square or MSE $R^2_{oos} = 1 - \\frac{\\sum_{(i,T)\\in test}(r_{i,T+1}-\\hat{r}_{i,T+1})^2}{\\sum_{(i,T)\\in test} r^2_{i,T+1}}$, \n",
        "and F1,accuracy for classification.\n",
        "\n",
        "\n",
        "\n",
        "\n"
      ]
    },
    {
      "cell_type": "code",
      "metadata": {
        "id": "Kf2yfT1mb36L",
        "colab_type": "code",
        "colab": {}
      },
      "source": [
        "stock_month_dropna = stock_month.dropna()"
      ],
      "execution_count": 0,
      "outputs": []
    },
    {
      "cell_type": "code",
      "metadata": {
        "id": "0WeRuP9hc0jV",
        "colab_type": "code",
        "outputId": "c1d54a8a-dfd2-49c4-ee83-5aa9e02f34d3",
        "colab": {
          "base_uri": "https://localhost:8080/",
          "height": 456
        }
      },
      "source": [
        "stock_month_dropna"
      ],
      "execution_count": 62,
      "outputs": [
        {
          "output_type": "execute_result",
          "data": {
            "text/html": [
              "<div>\n",
              "<style scoped>\n",
              "    .dataframe tbody tr th:only-of-type {\n",
              "        vertical-align: middle;\n",
              "    }\n",
              "\n",
              "    .dataframe tbody tr th {\n",
              "        vertical-align: top;\n",
              "    }\n",
              "\n",
              "    .dataframe thead th {\n",
              "        text-align: right;\n",
              "    }\n",
              "</style>\n",
              "<table border=\"1\" class=\"dataframe\">\n",
              "  <thead>\n",
              "    <tr style=\"text-align: right;\">\n",
              "      <th></th>\n",
              "      <th>year_month</th>\n",
              "      <th>sedol</th>\n",
              "      <th>sector</th>\n",
              "      <th>volume</th>\n",
              "      <th>volatility</th>\n",
              "      <th>mom1m</th>\n",
              "      <th>momentum</th>\n",
              "      <th>log_mktcap</th>\n",
              "      <th>LAST_PRICE</th>\n",
              "      <th>dollarVolume</th>\n",
              "      <th>next_month_return</th>\n",
              "      <th>number_of_days</th>\n",
              "      <th>Month_T</th>\n",
              "    </tr>\n",
              "  </thead>\n",
              "  <tbody>\n",
              "    <tr>\n",
              "      <th>0</th>\n",
              "      <td>2001-09</td>\n",
              "      <td>2001692</td>\n",
              "      <td>Industrials</td>\n",
              "      <td>2605739.0</td>\n",
              "      <td>0.759132</td>\n",
              "      <td>0.063333</td>\n",
              "      <td>1.14</td>\n",
              "      <td>7.965820</td>\n",
              "      <td>19.14</td>\n",
              "      <td>4.987384e+07</td>\n",
              "      <td>-0.049112</td>\n",
              "      <td>10.0</td>\n",
              "      <td>0</td>\n",
              "    </tr>\n",
              "    <tr>\n",
              "      <th>1</th>\n",
              "      <td>2001-10</td>\n",
              "      <td>2001692</td>\n",
              "      <td>Industrials</td>\n",
              "      <td>1800316.5</td>\n",
              "      <td>1.004393</td>\n",
              "      <td>-0.085427</td>\n",
              "      <td>-1.70</td>\n",
              "      <td>8.040311</td>\n",
              "      <td>18.20</td>\n",
              "      <td>3.276576e+07</td>\n",
              "      <td>0.173626</td>\n",
              "      <td>23.0</td>\n",
              "      <td>1</td>\n",
              "    </tr>\n",
              "    <tr>\n",
              "      <th>2</th>\n",
              "      <td>2001-11</td>\n",
              "      <td>2001692</td>\n",
              "      <td>Industrials</td>\n",
              "      <td>2351187.0</td>\n",
              "      <td>1.456707</td>\n",
              "      <td>0.148387</td>\n",
              "      <td>2.76</td>\n",
              "      <td>8.005596</td>\n",
              "      <td>21.36</td>\n",
              "      <td>5.022135e+07</td>\n",
              "      <td>0.044007</td>\n",
              "      <td>21.0</td>\n",
              "      <td>2</td>\n",
              "    </tr>\n",
              "    <tr>\n",
              "      <th>3</th>\n",
              "      <td>2001-12</td>\n",
              "      <td>2001692</td>\n",
              "      <td>Industrials</td>\n",
              "      <td>1609172.7</td>\n",
              "      <td>0.658752</td>\n",
              "      <td>0.064947</td>\n",
              "      <td>1.36</td>\n",
              "      <td>8.139449</td>\n",
              "      <td>22.30</td>\n",
              "      <td>3.588455e+07</td>\n",
              "      <td>0.118386</td>\n",
              "      <td>20.0</td>\n",
              "      <td>3</td>\n",
              "    </tr>\n",
              "    <tr>\n",
              "      <th>4</th>\n",
              "      <td>2002-01</td>\n",
              "      <td>2001692</td>\n",
              "      <td>Industrials</td>\n",
              "      <td>1856330.4</td>\n",
              "      <td>0.903392</td>\n",
              "      <td>0.137774</td>\n",
              "      <td>3.02</td>\n",
              "      <td>8.256207</td>\n",
              "      <td>24.94</td>\n",
              "      <td>4.629688e+07</td>\n",
              "      <td>0.046512</td>\n",
              "      <td>21.0</td>\n",
              "      <td>4</td>\n",
              "    </tr>\n",
              "    <tr>\n",
              "      <th>...</th>\n",
              "      <td>...</td>\n",
              "      <td>...</td>\n",
              "      <td>...</td>\n",
              "      <td>...</td>\n",
              "      <td>...</td>\n",
              "      <td>...</td>\n",
              "      <td>...</td>\n",
              "      <td>...</td>\n",
              "      <td>...</td>\n",
              "      <td>...</td>\n",
              "      <td>...</td>\n",
              "      <td>...</td>\n",
              "      <td>...</td>\n",
              "    </tr>\n",
              "    <tr>\n",
              "      <th>0</th>\n",
              "      <td>2020-04</td>\n",
              "      <td>BM5M5Y3</td>\n",
              "      <td>Industrials</td>\n",
              "      <td>14137310.0</td>\n",
              "      <td>3.885616</td>\n",
              "      <td>0.298017</td>\n",
              "      <td>14.88</td>\n",
              "      <td>11.462369</td>\n",
              "      <td>64.81</td>\n",
              "      <td>9.162391e+08</td>\n",
              "      <td>-0.004475</td>\n",
              "      <td>19.0</td>\n",
              "      <td>223</td>\n",
              "    </tr>\n",
              "    <tr>\n",
              "      <th>1</th>\n",
              "      <td>2020-05</td>\n",
              "      <td>BM5M5Y3</td>\n",
              "      <td>Industrials</td>\n",
              "      <td>13173122.0</td>\n",
              "      <td>3.871943</td>\n",
              "      <td>0.055801</td>\n",
              "      <td>3.41</td>\n",
              "      <td>11.404913</td>\n",
              "      <td>64.52</td>\n",
              "      <td>8.499298e+08</td>\n",
              "      <td>0.117018</td>\n",
              "      <td>20.0</td>\n",
              "      <td>224</td>\n",
              "    </tr>\n",
              "    <tr>\n",
              "      <th>0</th>\n",
              "      <td>2020-05</td>\n",
              "      <td>B01SD70</td>\n",
              "      <td>Consumer Discretionary</td>\n",
              "      <td>1226021.9</td>\n",
              "      <td>7.170124</td>\n",
              "      <td>0.020903</td>\n",
              "      <td>7.90</td>\n",
              "      <td>9.590333</td>\n",
              "      <td>385.84</td>\n",
              "      <td>4.730483e+08</td>\n",
              "      <td>-0.024440</td>\n",
              "      <td>13.0</td>\n",
              "      <td>224</td>\n",
              "    </tr>\n",
              "    <tr>\n",
              "      <th>0</th>\n",
              "      <td>2020-05</td>\n",
              "      <td>B0796X4</td>\n",
              "      <td>Health Care</td>\n",
              "      <td>2609637.2</td>\n",
              "      <td>18.389810</td>\n",
              "      <td>-0.079090</td>\n",
              "      <td>-32.49</td>\n",
              "      <td>10.505667</td>\n",
              "      <td>378.31</td>\n",
              "      <td>9.872518e+08</td>\n",
              "      <td>-0.036531</td>\n",
              "      <td>13.0</td>\n",
              "      <td>224</td>\n",
              "    </tr>\n",
              "    <tr>\n",
              "      <th>0</th>\n",
              "      <td>2020-05</td>\n",
              "      <td>2950482</td>\n",
              "      <td>Health Care</td>\n",
              "      <td>1319074.0</td>\n",
              "      <td>5.088619</td>\n",
              "      <td>0.021756</td>\n",
              "      <td>4.60</td>\n",
              "      <td>9.636934</td>\n",
              "      <td>216.04</td>\n",
              "      <td>2.849727e+08</td>\n",
              "      <td>-0.047723</td>\n",
              "      <td>5.0</td>\n",
              "      <td>224</td>\n",
              "    </tr>\n",
              "  </tbody>\n",
              "</table>\n",
              "<p>112525 rows × 13 columns</p>\n",
              "</div>"
            ],
            "text/plain": [
              "   year_month    sedol  ... number_of_days  Month_T\n",
              "0     2001-09  2001692  ...           10.0        0\n",
              "1     2001-10  2001692  ...           23.0        1\n",
              "2     2001-11  2001692  ...           21.0        2\n",
              "3     2001-12  2001692  ...           20.0        3\n",
              "4     2002-01  2001692  ...           21.0        4\n",
              "..        ...      ...  ...            ...      ...\n",
              "0     2020-04  BM5M5Y3  ...           19.0      223\n",
              "1     2020-05  BM5M5Y3  ...           20.0      224\n",
              "0     2020-05  B01SD70  ...           13.0      224\n",
              "0     2020-05  B0796X4  ...           13.0      224\n",
              "0     2020-05  2950482  ...            5.0      224\n",
              "\n",
              "[112525 rows x 13 columns]"
            ]
          },
          "metadata": {
            "tags": []
          },
          "execution_count": 62
        }
      ]
    },
    {
      "cell_type": "code",
      "metadata": {
        "id": "BjFr9LognjKS",
        "colab_type": "code",
        "colab": {}
      },
      "source": [
        "stock_month_dropna[stock_month_dropna['sedol'] == stock_id[1060]]"
      ],
      "execution_count": 0,
      "outputs": []
    },
    {
      "cell_type": "code",
      "metadata": {
        "id": "TiQGy6BMcDNY",
        "colab_type": "code",
        "colab": {}
      },
      "source": [
        "formula = 'C(sector) + volume\t+volatility + mom1m +\tmomentum + log_mktcap+ dollarVolume + Month_T\t+ LAST_PRICE ' \n",
        "#formula = 'volatility + mom1m +\tmomentum + log_mktcap+ Month_T\t+ LAST_PRICE' # I have tried some combination, not good\n",
        "\n",
        "# print(formula)\n",
        "X = dmatrix(formula, stock_month_dropna,return_type= 'dataframe')\n",
        "# X['time'] = X['time'].astype(int)\n",
        "Y = stock_month_dropna.next_month_return"
      ],
      "execution_count": 0,
      "outputs": []
    },
    {
      "cell_type": "markdown",
      "metadata": {
        "id": "JddviY_2q3CN",
        "colab_type": "text"
      },
      "source": [
        "random forest regression"
      ]
    },
    {
      "cell_type": "code",
      "metadata": {
        "id": "cXEz25hidS_A",
        "colab_type": "code",
        "outputId": "a6cb8a55-42ce-4471-c427-f3924266d069",
        "colab": {
          "base_uri": "https://localhost:8080/",
          "height": 34
        }
      },
      "source": [
        "regr = RandomForestRegressor(max_depth=3,random_state=0)\n",
        "regr.fit(X, Y)\n",
        "regr.score(X,Y)"
      ],
      "execution_count": 88,
      "outputs": [
        {
          "output_type": "execute_result",
          "data": {
            "text/plain": [
              "0.10534524006918755"
            ]
          },
          "metadata": {
            "tags": []
          },
          "execution_count": 88
        }
      ]
    },
    {
      "cell_type": "markdown",
      "metadata": {
        "id": "6eQcg7oJp9fE",
        "colab_type": "text"
      },
      "source": [
        "random forest classifcatio "
      ]
    },
    {
      "cell_type": "code",
      "metadata": {
        "id": "vHvLTsXLdgM_",
        "colab_type": "code",
        "colab": {}
      },
      "source": [
        "# Y to binary \n",
        "def pos_ind(a):\n",
        "  return 1 if a > 0 else 0 \n",
        "Y_bi = [pos_ind(ele) for ele in Y]\n",
        "# split sample \n",
        "# Y_tr = Y_bi[0:len(X_tr)]; Y_te = Y_bi[len(X_tr):]"
      ],
      "execution_count": 0,
      "outputs": []
    },
    {
      "cell_type": "code",
      "metadata": {
        "id": "mOi8nQnydkTp",
        "colab_type": "code",
        "outputId": "8b17b316-5ecc-4814-b6a4-700c93073e58",
        "colab": {
          "base_uri": "https://localhost:8080/",
          "height": 34
        }
      },
      "source": [
        "clf = RandomForestClassifier(max_depth= 3,random_state=0)\n",
        "clf.fit(X, Y_bi)\n",
        "clf.score(X,Y_bi)\n",
        "#0.5615907576094201"
      ],
      "execution_count": 81,
      "outputs": [
        {
          "output_type": "execute_result",
          "data": {
            "text/plain": [
              "0.5606220839813375"
            ]
          },
          "metadata": {
            "tags": []
          },
          "execution_count": 81
        }
      ]
    },
    {
      "cell_type": "markdown",
      "metadata": {
        "id": "1UGmGvnip-vT",
        "colab_type": "text"
      },
      "source": [
        "Logistic Regression"
      ]
    },
    {
      "cell_type": "code",
      "metadata": {
        "id": "kQFR37Xwp8m6",
        "colab_type": "code",
        "colab": {
          "base_uri": "https://localhost:8080/",
          "height": 34
        },
        "outputId": "26e8fa42-149c-4acf-8810-f9e44c5e0a56"
      },
      "source": [
        "clf2 = LogisticRegression(random_state=0).fit(X, Y_bi)\n",
        "clf2.score(X,Y_bi)"
      ],
      "execution_count": 83,
      "outputs": [
        {
          "output_type": "execute_result",
          "data": {
            "text/plain": [
              "0.5543923572539435"
            ]
          },
          "metadata": {
            "tags": []
          },
          "execution_count": 83
        }
      ]
    },
    {
      "cell_type": "markdown",
      "metadata": {
        "id": "cT3IPRz4ppDq",
        "colab_type": "text"
      },
      "source": [
        "The Classification accuracy is little better than random guess, the problem is still feature engineering, how do we build better signals? My though is standardization."
      ]
    },
    {
      "cell_type": "markdown",
      "metadata": {
        "id": "tOOPLoy5oSt4",
        "colab_type": "text"
      },
      "source": [
        "# SHAP"
      ]
    },
    {
      "cell_type": "code",
      "metadata": {
        "id": "wsoYbyXrrFxV",
        "colab_type": "code",
        "colab": {
          "base_uri": "https://localhost:8080/",
          "height": 320
        },
        "outputId": "46bfdd83-7770-4b96-f6ae-aa951c39578e"
      },
      "source": [
        "explainer = shap.TreeExplainer(regr)\n",
        "shap_values2 = explainer.shap_values(X)\n",
        "\n",
        "shap.summary_plot(shap_values2, X)"
      ],
      "execution_count": 89,
      "outputs": [
        {
          "output_type": "stream",
          "text": [
            "Setting feature_perturbation = \"tree_path_dependent\" because no background data was given.\n"
          ],
          "name": "stderr"
        },
        {
          "output_type": "display_data",
          "data": {
            "image/png": "[encoded data removed]",
            "text/plain": [
              "<Figure size 576x309.6 with 2 Axes>"
            ]
          },
          "metadata": {
            "tags": [],
            "needs_background": "light"
          }
        }
      ]
    },
    {
      "cell_type": "code",
      "metadata": {
        "id": "m2VaIM3soUUz",
        "colab_type": "code",
        "colab": {
          "base_uri": "https://localhost:8080/",
          "height": 316
        },
        "outputId": "45a1da4a-1647-4058-e0a7-516730324b84"
      },
      "source": [
        "explainer = shap.TreeExplainer(clf)\n",
        "shap_values = explainer.shap_values(X)\n",
        "\n",
        "shap.summary_plot(shap_values, X)"
      ],
      "execution_count": 87,
      "outputs": [
        {
          "output_type": "stream",
          "text": [
            "Setting feature_perturbation = \"tree_path_dependent\" because no background data was given.\n"
          ],
          "name": "stderr"
        },
        {
          "output_type": "display_data",
          "data": {
            "image/png": "[encoded data removed]",
            "text/plain": [
              "<Figure size 576x309.6 with 1 Axes>"
            ]
          },
          "metadata": {
            "tags": [],
            "needs_background": "light"
          }
        }
      ]
    },
    {
      "cell_type": "markdown",
      "metadata": {
        "id": "8AsdmIcOUByW",
        "colab_type": "text"
      },
      "source": [
        "# Others"
      ]
    },
    {
      "cell_type": "code",
      "metadata": {
        "id": "lQLeaMSKfcXb",
        "colab_type": "code",
        "outputId": "da813f87-69c6-46a6-b606-adc85d89a821",
        "colab": {
          "base_uri": "https://localhost:8080/",
          "height": 119
        }
      },
      "source": [
        "# stock id, total of 1069 stocks \n",
        "\n",
        "stock_id = list(tempDF.sedol.unique()) \n",
        "\n",
        "# for stock i\n",
        "i = 3\n",
        "stock_i = tempDF[tempDF['sedol'] == stock_id[i]]\n",
        "stock_i_sector = stock_i['sector'].unique() # can be 2, NA + sector\n",
        "if len(stock_i_sector) > 1:\n",
        "  print(i)\n",
        "# for stock i, the time period\n",
        "stock_i['year_month'] = pd.to_datetime(stock_i['date']).dt.to_period('M')\n",
        "time_i = list(stock_i['year_month'].unique())\n",
        "# make monthly signals \n",
        "# 1 volumn, 2 volatility , 3 momentum ,4 mom1m 5 log makcap, 6 price 7 dollarvolume\n",
        "\n",
        "# intitial new df\n",
        "stock_i_month = pd.DataFrame(data = {\"year_month\":time_i})\n",
        "\n",
        "# stock id and sector\n",
        "stock_i_month.loc[:,'sedol'] = stock_id[i]; stock_i_month.loc[:,'sector'] = stock_i_sector[-1]\n",
        "\n",
        "# Since it is VOLUME_AVG_30D, I use the .iloc[-1] of that month to represent that month's volume.\n",
        "stock_i_month.loc[:,'volume'] = [stock_i[stock_i['year_month'] == str(time)]['VOLUME_AVG_30D'].iloc[-1] for time in time_i]\n",
        "# use std as measure of volatility. Could do Beta later\n",
        "stock_i_month.loc[:,'volatility'] = [np.std( np.array(stock_i[stock_i['year_month'] == str(time)]['LAST_PRICE']) ) for time in time_i]\n",
        "# mom1m, 1 month cumalative return, (.iloc[-1] - .iloc[0])/ .iloc[0]\n",
        "stock_i_month.loc[:,'mom1m'] = [( stock_i[stock_i['year_month'] == str(time)]['LAST_PRICE'].iloc[-1] - \n",
        "  stock_i[stock_i['year_month'] == str(time)]['LAST_PRICE'].iloc[0] ) /\n",
        "  stock_i[stock_i['year_month'] == str(time)]['LAST_PRICE'].iloc[0]\n",
        " for time in time_i]\n",
        "# momentum (.iloc[-1] - .iloc[0]), that month's last price - that month's first price\n",
        "stock_i_month.loc[:,'momentum'] = [stock_i[stock_i['year_month'] == str(time)]['LAST_PRICE'].iloc[-1] - \n",
        "  stock_i[stock_i['year_month'] == str(time)]['LAST_PRICE'].iloc[0] for time in time_i]\n",
        "# log makcap, use that month's average mktcap then take nature log\n",
        "stock_i_month.loc[:,'log_mktcap'] = [np.log(np.mean( np.array(stock_i[stock_i['year_month'] == str(time)]['mktcap']) ) ) for time in time_i]\n",
        "# price, use last day of that month's price, since it recovers dollarvolumn\n",
        "stock_i_month.loc[:,'LAST_PRICE'] = [stock_i[stock_i['year_month'] == str(time)]['LAST_PRICE'].iloc[-1]  for time in time_i]\n",
        "# dollarvolume = price * volumn\n",
        "stock_i_month.loc[:,'dollarVolume'] = [stock_i[stock_i['year_month'] == str(time)]['dollarVolume'].iloc[-1]  for time in time_i]\n",
        "\n",
        "\n",
        "# Y, next month return(t+1), use (t+1.iloc[-1] - t.iloc[-1]) / t.iloc[-1]\n",
        "stock_i_month.loc[:,'next_month_return'] = np.concatenate( ( [ (stock_i[stock_i['year_month'] == str(time_i[t+1])]['LAST_PRICE'].iloc[-1] -  \n",
        "                                      stock_i[stock_i['year_month'] == str(time_i[t])]['LAST_PRICE'].iloc[-1] )/\n",
        "                                      stock_i[stock_i['year_month'] == str(time_i[t])]['LAST_PRICE'].iloc[-1]\n",
        "                                      for t in np.arange(len(time_i)-1)] , [np.nan]) )\n",
        "\n"
      ],
      "execution_count": 3,
      "outputs": [
        {
          "output_type": "stream",
          "text": [
            "/usr/local/lib/python3.6/dist-packages/ipykernel_launcher.py:12: SettingWithCopyWarning: \n",
            "A value is trying to be set on a copy of a slice from a DataFrame.\n",
            "Try using .loc[row_indexer,col_indexer] = value instead\n",
            "\n",
            "See the caveats in the documentation: https://pandas.pydata.org/pandas-docs/stable/user_guide/indexing.html#returning-a-view-versus-a-copy\n",
            "  if sys.path[0] == '':\n"
          ],
          "name": "stderr"
        }
      ]
    }
  ]
}